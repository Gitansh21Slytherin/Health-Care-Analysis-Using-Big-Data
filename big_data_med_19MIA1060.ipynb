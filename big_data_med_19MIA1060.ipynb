{
  "nbformat": 4,
  "nbformat_minor": 0,
  "metadata": {
    "colab": {
      "name": "big_data_med.ipynb",
      "provenance": [],
      "collapsed_sections": []
    },
    "kernelspec": {
      "name": "python3",
      "display_name": "Python 3"
    },
    "language_info": {
      "name": "python"
    }
  },
  "cells": [
    {
      "cell_type": "code",
      "execution_count": null,
      "metadata": {
        "id": "4CJiOJYgIRtH"
      },
      "outputs": [],
      "source": [
        "!apt-get install openjdk-8-jdk-headless -qq > /dev/null\n",
        "!wget -q https://downloads.apache.org/spark/spark-3.2.1/spark-3.2.1-bin-hadoop2.7.tgz\n",
        "!tar -zxvf spark-3.2.1-bin-hadoop2.7.tgz\n",
        "\n",
        "#install findspark: Adds pyspark to sys.path at rubtime\n",
        "!pip install -q findspark"
      ]
    },
    {
      "cell_type": "code",
      "source": [
        "import os\n",
        "os.environ[\"JAVA_HOME\"] = \"/usr/lib/jvm/java-8-openjdk-amd64\"\n",
        "os.environ[\"SPARK_HOME\"] = \"/content/spark-3.2.1-bin-hadoop2.7\""
      ],
      "metadata": {
        "id": "bVRtC3MgIemv"
      },
      "execution_count": null,
      "outputs": []
    },
    {
      "cell_type": "code",
      "source": [
        "pip install pyspark"
      ],
      "metadata": {
        "id": "H9sJeVZHJFV0",
        "colab": {
          "base_uri": "https://localhost:8080/"
        },
        "outputId": "a2e18982-c765-4580-9e80-37c4bc786a40"
      },
      "execution_count": null,
      "outputs": [
        {
          "output_type": "stream",
          "name": "stdout",
          "text": [
            "Collecting pyspark\n",
            "  Downloading pyspark-3.2.1.tar.gz (281.4 MB)\n",
            "\u001b[K     |████████████████████████████████| 281.4 MB 33 kB/s \n",
            "\u001b[?25hCollecting py4j==0.10.9.3\n",
            "  Downloading py4j-0.10.9.3-py2.py3-none-any.whl (198 kB)\n",
            "\u001b[K     |████████████████████████████████| 198 kB 60.6 MB/s \n",
            "\u001b[?25hBuilding wheels for collected packages: pyspark\n",
            "  Building wheel for pyspark (setup.py) ... \u001b[?25l\u001b[?25hdone\n",
            "  Created wheel for pyspark: filename=pyspark-3.2.1-py2.py3-none-any.whl size=281853642 sha256=5648638915d1a1bbbd1dfc26a735fdaf66363eaba3c47013ed9e3fad445594e6\n",
            "  Stored in directory: /root/.cache/pip/wheels/9f/f5/07/7cd8017084dce4e93e84e92efd1e1d5334db05f2e83bcef74f\n",
            "Successfully built pyspark\n",
            "Installing collected packages: py4j, pyspark\n",
            "Successfully installed py4j-0.10.9.3 pyspark-3.2.1\n"
          ]
        }
      ]
    },
    {
      "cell_type": "code",
      "source": [
        "\n",
        "\n",
        "from pyspark import SparkContext, SparkConf\n",
        "sc = SparkContext.getOrCreate()"
      ],
      "metadata": {
        "id": "sE0IM2uJIq2I"
      },
      "execution_count": null,
      "outputs": []
    },
    {
      "cell_type": "code",
      "source": [
        "from pyspark.sql import SparkSession\n",
        "spark = SparkSession.builder.appName(\"pySparkdf\").getOrCreate()"
      ],
      "metadata": {
        "id": "wl67ywtiI6kl"
      },
      "execution_count": null,
      "outputs": []
    },
    {
      "cell_type": "code",
      "source": [
        "spark = SparkSession.builder.appName(\"pySpark csv df\").getOrCreate()"
      ],
      "metadata": {
        "id": "ikgQoEsJJZWK"
      },
      "execution_count": null,
      "outputs": []
    },
    {
      "cell_type": "code",
      "source": [
        "from google.colab import drive\n",
        "drive.mount(\"/content/gdrive\")"
      ],
      "metadata": {
        "id": "0N8XaemxM5sI",
        "colab": {
          "base_uri": "https://localhost:8080/"
        },
        "outputId": "39d4bcf7-c2ed-4fb2-af87-f47e897be908"
      },
      "execution_count": null,
      "outputs": [
        {
          "output_type": "stream",
          "name": "stdout",
          "text": [
            "Mounted at /content/gdrive\n"
          ]
        }
      ]
    },
    {
      "cell_type": "code",
      "source": [
        ""
      ],
      "metadata": {
        "id": "y6HAVPnrwqnu"
      },
      "execution_count": null,
      "outputs": []
    },
    {
      "cell_type": "markdown",
      "source": [
        "# **DATASET**"
      ],
      "metadata": {
        "id": "AgADTYorwvLM"
      }
    },
    {
      "cell_type": "code",
      "source": [
        "data = spark.read.csv(header=True, inferSchema= True, path=\"/content/gdrive/MyDrive/big data/Training5.csv\")\n",
        "data.show(5)"
      ],
      "metadata": {
        "id": "cbZWtwk6L9FU",
        "colab": {
          "base_uri": "https://localhost:8080/"
        },
        "outputId": "0dc5120d-6822-4acb-e52a-a1543dc993c0"
      },
      "execution_count": null,
      "outputs": [
        {
          "output_type": "stream",
          "name": "stdout",
          "text": [
            "+-------+---------+--------------------+-------------------+---------+------+----------+------------+-------+----------------+--------------+--------+-------------------+-------------------+-------+-----------+-------+--------------------+-----------+-----------+------------+--------+-----------------+---------------------+-----+----------+-----------+--------------+--------+-----------+-----------+--------+--------------+----------+------+----------------+--------------------+---------+------------+--------------+---------+----------+------------+-----------------+-------------------+----------------+-------------------+-------------------+-------+----------------------------+------+-----------------+---------------+--------------+----------+----------+----------+-----------------+---------------+---------------------------+-------------------+------------+------------------+---------+---------+------+--------+-------+------------+---------------------+-------------------+----------------+-------------+-------------------+----------------+----------------------+------------------------+--------------+---------+--------------+---------------+----------+---------------+------------------+------------------+---------------+------------+-------------------------+-------------+------------------+-------------------+------------------------+----------------+----------------+-------------------+----------+------------+-----------+-----------------+-------------------+----------+---------------------+-------------------+------------------+------------------+--------+--------------+-------------+------------+---------------------+-------------------+---------------------------+------------------------------+----+----------------+---------------------+------------------------------+-----------------+---------------+-----------------------+------------+---------------+------------------+----------+--------+------------+-------------------+--------------------+------------------+-------+--------------------+-----------------+----------------+\n",
            "|itching|skin_rash|nodal_skin_eruptions|continuous_sneezing|shivering|chills|joint_pain|stomach_pain|acidity|ulcers_on_tongue|muscle_wasting|vomiting|burning_micturition|spotting_ urination|fatigue|weight_gain|anxiety|cold_hands_and_feets|mood_swings|weight_loss|restlessness|lethargy|patches_in_throat|irregular_sugar_level|cough|high_fever|sunken_eyes|breathlessness|sweating|dehydration|indigestion|headache|yellowish_skin|dark_urine|nausea|loss_of_appetite|pain_behind_the_eyes|back_pain|constipation|abdominal_pain|diarrhoea|mild_fever|yellow_urine|yellowing_of_eyes|acute_liver_failure|fluid_overload45|swelling_of_stomach|swelled_lymph_nodes|malaise|blurred_and_distorted_vision|phlegm|throat_irritation|redness_of_eyes|sinus_pressure|runny_nose|congestion|chest_pain|weakness_in_limbs|fast_heart_rate|pain_during_bowel_movements|pain_in_anal_region|bloody_stool|irritation_in_anus|neck_pain|dizziness|cramps|bruising|obesity|swollen_legs|swollen_blood_vessels|puffy_face_and_eyes|enlarged_thyroid|brittle_nails|swollen_extremeties|excessive_hunger|extra_marital_contacts|drying_and_tingling_lips|slurred_speech|knee_pain|hip_joint_pain|muscle_weakness|stiff_neck|swelling_joints|movement_stiffness|spinning_movements|loss_of_balance|unsteadiness|weakness_of_one_body_side|loss_of_smell|bladder_discomfort|foul_smell_of urine|continuous_feel_of_urine|passage_of_gases|internal_itching|toxic_look_(typhos)|depression|irritability|muscle_pain|altered_sensorium|red_spots_over_body|belly_pain|abnormal_menstruation|dischromic _patches|watering_from_eyes|increased_appetite|polyuria|family_history|mucoid_sputum|rusty_sputum|lack_of_concentration|visual_disturbances|receiving_blood_transfusion|receiving_unsterile_injections|coma|stomach_bleeding|distention_of_abdomen|history_of_alcohol_consumption|fluid_overload117|blood_in_sputum|prominent_veins_on_calf|palpitations|painful_walking|pus_filled_pimples|blackheads|scurring|skin_peeling|silver_like_dusting|small_dents_in_nails|inflammatory_nails|blister|red_sore_around_nose|yellow_crust_ooze|       prognosis|\n",
            "+-------+---------+--------------------+-------------------+---------+------+----------+------------+-------+----------------+--------------+--------+-------------------+-------------------+-------+-----------+-------+--------------------+-----------+-----------+------------+--------+-----------------+---------------------+-----+----------+-----------+--------------+--------+-----------+-----------+--------+--------------+----------+------+----------------+--------------------+---------+------------+--------------+---------+----------+------------+-----------------+-------------------+----------------+-------------------+-------------------+-------+----------------------------+------+-----------------+---------------+--------------+----------+----------+----------+-----------------+---------------+---------------------------+-------------------+------------+------------------+---------+---------+------+--------+-------+------------+---------------------+-------------------+----------------+-------------+-------------------+----------------+----------------------+------------------------+--------------+---------+--------------+---------------+----------+---------------+------------------+------------------+---------------+------------+-------------------------+-------------+------------------+-------------------+------------------------+----------------+----------------+-------------------+----------+------------+-----------+-----------------+-------------------+----------+---------------------+-------------------+------------------+------------------+--------+--------------+-------------+------------+---------------------+-------------------+---------------------------+------------------------------+----+----------------+---------------------+------------------------------+-----------------+---------------+-----------------------+------------+---------------+------------------+----------+--------+------------+-------------------+--------------------+------------------+-------+--------------------+-----------------+----------------+\n",
            "|      1|        1|                   1|                  0|        0|     0|         0|           0|      0|               0|             0|       0|                  0|                  0|      0|          0|      0|                   0|          0|          0|           0|       0|                0|                    0|    0|         0|          0|             0|       0|          0|          0|       0|             0|         0|     0|               0|                   0|        0|           0|             0|        0|         0|           0|                0|                  0|               0|                  0|                  0|      0|                           0|     0|                0|              0|             0|         0|         0|         0|                0|              0|                          0|                  0|           0|                 0|        0|        0|     0|       0|      0|           0|                    0|                  0|               0|            0|                  0|               0|                     0|                       0|             0|        0|             0|              0|         0|              0|                 0|                 0|              0|           0|                        0|            0|                 0|                  0|                       0|               0|               0|                  0|         0|           0|          0|                0|                  0|         0|                    0|                  1|                 0|                 0|       0|             0|            0|           0|                    0|                  0|                          0|                             0|   0|               0|                    0|                             0|                0|              0|                      0|           0|              0|                 0|         0|       0|           0|                  0|                   0|                 0|      0|                   0|                0|Fungal infection|\n",
            "|      0|        1|                   1|                  0|        0|     0|         0|           0|      0|               0|             0|       0|                  0|                  0|      0|          0|      0|                   0|          0|          0|           0|       0|                0|                    0|    0|         0|          0|             0|       0|          0|          0|       0|             0|         0|     0|               0|                   0|        0|           0|             0|        0|         0|           0|                0|                  0|               0|                  0|                  0|      0|                           0|     0|                0|              0|             0|         0|         0|         0|                0|              0|                          0|                  0|           0|                 0|        0|        0|     0|       0|      0|           0|                    0|                  0|               0|            0|                  0|               0|                     0|                       0|             0|        0|             0|              0|         0|              0|                 0|                 0|              0|           0|                        0|            0|                 0|                  0|                       0|               0|               0|                  0|         0|           0|          0|                0|                  0|         0|                    0|                  1|                 0|                 0|       0|             0|            0|           0|                    0|                  0|                          0|                             0|   0|               0|                    0|                             0|                0|              0|                      0|           0|              0|                 0|         0|       0|           0|                  0|                   0|                 0|      0|                   0|                0|Fungal infection|\n",
            "|      1|        0|                   1|                  0|        0|     0|         0|           0|      0|               0|             0|       0|                  0|                  0|      0|          0|      0|                   0|          0|          0|           0|       0|                0|                    0|    0|         0|          0|             0|       0|          0|          0|       0|             0|         0|     0|               0|                   0|        0|           0|             0|        0|         0|           0|                0|                  0|               0|                  0|                  0|      0|                           0|     0|                0|              0|             0|         0|         0|         0|                0|              0|                          0|                  0|           0|                 0|        0|        0|     0|       0|      0|           0|                    0|                  0|               0|            0|                  0|               0|                     0|                       0|             0|        0|             0|              0|         0|              0|                 0|                 0|              0|           0|                        0|            0|                 0|                  0|                       0|               0|               0|                  0|         0|           0|          0|                0|                  0|         0|                    0|                  1|                 0|                 0|       0|             0|            0|           0|                    0|                  0|                          0|                             0|   0|               0|                    0|                             0|                0|              0|                      0|           0|              0|                 0|         0|       0|           0|                  0|                   0|                 0|      0|                   0|                0|Fungal infection|\n",
            "|      1|        1|                   0|                  0|        0|     0|         0|           0|      0|               0|             0|       0|                  0|                  0|      0|          0|      0|                   0|          0|          0|           0|       0|                0|                    0|    0|         0|          0|             0|       0|          0|          0|       0|             0|         0|     0|               0|                   0|        0|           0|             0|        0|         0|           0|                0|                  0|               0|                  0|                  0|      0|                           0|     0|                0|              0|             0|         0|         0|         0|                0|              0|                          0|                  0|           0|                 0|        0|        0|     0|       0|      0|           0|                    0|                  0|               0|            0|                  0|               0|                     0|                       0|             0|        0|             0|              0|         0|              0|                 0|                 0|              0|           0|                        0|            0|                 0|                  0|                       0|               0|               0|                  0|         0|           0|          0|                0|                  0|         0|                    0|                  1|                 0|                 0|       0|             0|            0|           0|                    0|                  0|                          0|                             0|   0|               0|                    0|                             0|                0|              0|                      0|           0|              0|                 0|         0|       0|           0|                  0|                   0|                 0|      0|                   0|                0|Fungal infection|\n",
            "|      1|        1|                   1|                  0|        0|     0|         0|           0|      0|               0|             0|       0|                  0|                  0|      0|          0|      0|                   0|          0|          0|           0|       0|                0|                    0|    0|         0|          0|             0|       0|          0|          0|       0|             0|         0|     0|               0|                   0|        0|           0|             0|        0|         0|           0|                0|                  0|               0|                  0|                  0|      0|                           0|     0|                0|              0|             0|         0|         0|         0|                0|              0|                          0|                  0|           0|                 0|        0|        0|     0|       0|      0|           0|                    0|                  0|               0|            0|                  0|               0|                     0|                       0|             0|        0|             0|              0|         0|              0|                 0|                 0|              0|           0|                        0|            0|                 0|                  0|                       0|               0|               0|                  0|         0|           0|          0|                0|                  0|         0|                    0|                  0|                 0|                 0|       0|             0|            0|           0|                    0|                  0|                          0|                             0|   0|               0|                    0|                             0|                0|              0|                      0|           0|              0|                 0|         0|       0|           0|                  0|                   0|                 0|      0|                   0|                0|Fungal infection|\n",
            "+-------+---------+--------------------+-------------------+---------+------+----------+------------+-------+----------------+--------------+--------+-------------------+-------------------+-------+-----------+-------+--------------------+-----------+-----------+------------+--------+-----------------+---------------------+-----+----------+-----------+--------------+--------+-----------+-----------+--------+--------------+----------+------+----------------+--------------------+---------+------------+--------------+---------+----------+------------+-----------------+-------------------+----------------+-------------------+-------------------+-------+----------------------------+------+-----------------+---------------+--------------+----------+----------+----------+-----------------+---------------+---------------------------+-------------------+------------+------------------+---------+---------+------+--------+-------+------------+---------------------+-------------------+----------------+-------------+-------------------+----------------+----------------------+------------------------+--------------+---------+--------------+---------------+----------+---------------+------------------+------------------+---------------+------------+-------------------------+-------------+------------------+-------------------+------------------------+----------------+----------------+-------------------+----------+------------+-----------+-----------------+-------------------+----------+---------------------+-------------------+------------------+------------------+--------+--------------+-------------+------------+---------------------+-------------------+---------------------------+------------------------------+----+----------------+---------------------+------------------------------+-----------------+---------------+-----------------------+------------+---------------+------------------+----------+--------+------------+-------------------+--------------------+------------------+-------+--------------------+-----------------+----------------+\n",
            "only showing top 5 rows\n",
            "\n"
          ]
        }
      ]
    },
    {
      "cell_type": "code",
      "source": [
        "type(data)"
      ],
      "metadata": {
        "id": "bpaT9ipvMmcU",
        "colab": {
          "base_uri": "https://localhost:8080/"
        },
        "outputId": "7c7d83b4-db43-4048-83b5-babbbe455918"
      },
      "execution_count": null,
      "outputs": [
        {
          "output_type": "execute_result",
          "data": {
            "text/plain": [
              "pyspark.sql.dataframe.DataFrame"
            ]
          },
          "metadata": {},
          "execution_count": 78
        }
      ]
    },
    {
      "cell_type": "code",
      "source": [
        "data.printSchema()"
      ],
      "metadata": {
        "id": "942AfhYyNya6",
        "colab": {
          "base_uri": "https://localhost:8080/"
        },
        "outputId": "c4e66584-58cf-4a7b-907a-8b58b9bb3e2f"
      },
      "execution_count": null,
      "outputs": [
        {
          "output_type": "stream",
          "name": "stdout",
          "text": [
            "root\n",
            " |-- itching: integer (nullable = true)\n",
            " |-- skin_rash: integer (nullable = true)\n",
            " |-- nodal_skin_eruptions: integer (nullable = true)\n",
            " |-- continuous_sneezing: integer (nullable = true)\n",
            " |-- shivering: integer (nullable = true)\n",
            " |-- chills: integer (nullable = true)\n",
            " |-- joint_pain: integer (nullable = true)\n",
            " |-- stomach_pain: integer (nullable = true)\n",
            " |-- acidity: integer (nullable = true)\n",
            " |-- ulcers_on_tongue: integer (nullable = true)\n",
            " |-- muscle_wasting: integer (nullable = true)\n",
            " |-- vomiting: integer (nullable = true)\n",
            " |-- burning_micturition: integer (nullable = true)\n",
            " |-- spotting_ urination: integer (nullable = true)\n",
            " |-- fatigue: integer (nullable = true)\n",
            " |-- weight_gain: integer (nullable = true)\n",
            " |-- anxiety: integer (nullable = true)\n",
            " |-- cold_hands_and_feets: integer (nullable = true)\n",
            " |-- mood_swings: integer (nullable = true)\n",
            " |-- weight_loss: integer (nullable = true)\n",
            " |-- restlessness: integer (nullable = true)\n",
            " |-- lethargy: integer (nullable = true)\n",
            " |-- patches_in_throat: integer (nullable = true)\n",
            " |-- irregular_sugar_level: integer (nullable = true)\n",
            " |-- cough: integer (nullable = true)\n",
            " |-- high_fever: integer (nullable = true)\n",
            " |-- sunken_eyes: integer (nullable = true)\n",
            " |-- breathlessness: integer (nullable = true)\n",
            " |-- sweating: integer (nullable = true)\n",
            " |-- dehydration: integer (nullable = true)\n",
            " |-- indigestion: integer (nullable = true)\n",
            " |-- headache: integer (nullable = true)\n",
            " |-- yellowish_skin: integer (nullable = true)\n",
            " |-- dark_urine: integer (nullable = true)\n",
            " |-- nausea: integer (nullable = true)\n",
            " |-- loss_of_appetite: integer (nullable = true)\n",
            " |-- pain_behind_the_eyes: integer (nullable = true)\n",
            " |-- back_pain: integer (nullable = true)\n",
            " |-- constipation: integer (nullable = true)\n",
            " |-- abdominal_pain: integer (nullable = true)\n",
            " |-- diarrhoea: integer (nullable = true)\n",
            " |-- mild_fever: integer (nullable = true)\n",
            " |-- yellow_urine: integer (nullable = true)\n",
            " |-- yellowing_of_eyes: integer (nullable = true)\n",
            " |-- acute_liver_failure: integer (nullable = true)\n",
            " |-- fluid_overload45: integer (nullable = true)\n",
            " |-- swelling_of_stomach: integer (nullable = true)\n",
            " |-- swelled_lymph_nodes: integer (nullable = true)\n",
            " |-- malaise: integer (nullable = true)\n",
            " |-- blurred_and_distorted_vision: integer (nullable = true)\n",
            " |-- phlegm: integer (nullable = true)\n",
            " |-- throat_irritation: integer (nullable = true)\n",
            " |-- redness_of_eyes: integer (nullable = true)\n",
            " |-- sinus_pressure: integer (nullable = true)\n",
            " |-- runny_nose: integer (nullable = true)\n",
            " |-- congestion: integer (nullable = true)\n",
            " |-- chest_pain: integer (nullable = true)\n",
            " |-- weakness_in_limbs: integer (nullable = true)\n",
            " |-- fast_heart_rate: integer (nullable = true)\n",
            " |-- pain_during_bowel_movements: integer (nullable = true)\n",
            " |-- pain_in_anal_region: integer (nullable = true)\n",
            " |-- bloody_stool: integer (nullable = true)\n",
            " |-- irritation_in_anus: integer (nullable = true)\n",
            " |-- neck_pain: integer (nullable = true)\n",
            " |-- dizziness: integer (nullable = true)\n",
            " |-- cramps: integer (nullable = true)\n",
            " |-- bruising: integer (nullable = true)\n",
            " |-- obesity: integer (nullable = true)\n",
            " |-- swollen_legs: integer (nullable = true)\n",
            " |-- swollen_blood_vessels: integer (nullable = true)\n",
            " |-- puffy_face_and_eyes: integer (nullable = true)\n",
            " |-- enlarged_thyroid: integer (nullable = true)\n",
            " |-- brittle_nails: integer (nullable = true)\n",
            " |-- swollen_extremeties: integer (nullable = true)\n",
            " |-- excessive_hunger: integer (nullable = true)\n",
            " |-- extra_marital_contacts: integer (nullable = true)\n",
            " |-- drying_and_tingling_lips: integer (nullable = true)\n",
            " |-- slurred_speech: integer (nullable = true)\n",
            " |-- knee_pain: integer (nullable = true)\n",
            " |-- hip_joint_pain: integer (nullable = true)\n",
            " |-- muscle_weakness: integer (nullable = true)\n",
            " |-- stiff_neck: integer (nullable = true)\n",
            " |-- swelling_joints: integer (nullable = true)\n",
            " |-- movement_stiffness: integer (nullable = true)\n",
            " |-- spinning_movements: integer (nullable = true)\n",
            " |-- loss_of_balance: integer (nullable = true)\n",
            " |-- unsteadiness: integer (nullable = true)\n",
            " |-- weakness_of_one_body_side: integer (nullable = true)\n",
            " |-- loss_of_smell: integer (nullable = true)\n",
            " |-- bladder_discomfort: integer (nullable = true)\n",
            " |-- foul_smell_of urine: integer (nullable = true)\n",
            " |-- continuous_feel_of_urine: integer (nullable = true)\n",
            " |-- passage_of_gases: integer (nullable = true)\n",
            " |-- internal_itching: integer (nullable = true)\n",
            " |-- toxic_look_(typhos): integer (nullable = true)\n",
            " |-- depression: integer (nullable = true)\n",
            " |-- irritability: integer (nullable = true)\n",
            " |-- muscle_pain: integer (nullable = true)\n",
            " |-- altered_sensorium: integer (nullable = true)\n",
            " |-- red_spots_over_body: integer (nullable = true)\n",
            " |-- belly_pain: integer (nullable = true)\n",
            " |-- abnormal_menstruation: integer (nullable = true)\n",
            " |-- dischromic _patches: integer (nullable = true)\n",
            " |-- watering_from_eyes: integer (nullable = true)\n",
            " |-- increased_appetite: integer (nullable = true)\n",
            " |-- polyuria: integer (nullable = true)\n",
            " |-- family_history: integer (nullable = true)\n",
            " |-- mucoid_sputum: integer (nullable = true)\n",
            " |-- rusty_sputum: integer (nullable = true)\n",
            " |-- lack_of_concentration: integer (nullable = true)\n",
            " |-- visual_disturbances: integer (nullable = true)\n",
            " |-- receiving_blood_transfusion: integer (nullable = true)\n",
            " |-- receiving_unsterile_injections: integer (nullable = true)\n",
            " |-- coma: integer (nullable = true)\n",
            " |-- stomach_bleeding: integer (nullable = true)\n",
            " |-- distention_of_abdomen: integer (nullable = true)\n",
            " |-- history_of_alcohol_consumption: integer (nullable = true)\n",
            " |-- fluid_overload117: integer (nullable = true)\n",
            " |-- blood_in_sputum: integer (nullable = true)\n",
            " |-- prominent_veins_on_calf: integer (nullable = true)\n",
            " |-- palpitations: integer (nullable = true)\n",
            " |-- painful_walking: integer (nullable = true)\n",
            " |-- pus_filled_pimples: integer (nullable = true)\n",
            " |-- blackheads: integer (nullable = true)\n",
            " |-- scurring: integer (nullable = true)\n",
            " |-- skin_peeling: integer (nullable = true)\n",
            " |-- silver_like_dusting: integer (nullable = true)\n",
            " |-- small_dents_in_nails: integer (nullable = true)\n",
            " |-- inflammatory_nails: integer (nullable = true)\n",
            " |-- blister: integer (nullable = true)\n",
            " |-- red_sore_around_nose: integer (nullable = true)\n",
            " |-- yellow_crust_ooze: integer (nullable = true)\n",
            " |-- prognosis: string (nullable = true)\n",
            "\n"
          ]
        }
      ]
    },
    {
      "cell_type": "code",
      "source": [
        "#size of dataset\n",
        "print(\"Number of rows : \",data.count())\n",
        "print(\"Number of columns :\", len(data.columns))"
      ],
      "metadata": {
        "id": "jUXtLkCXN7V0",
        "colab": {
          "base_uri": "https://localhost:8080/"
        },
        "outputId": "9f1e4bdd-40a5-4354-c7ef-477788f8bb07"
      },
      "execution_count": null,
      "outputs": [
        {
          "output_type": "stream",
          "name": "stdout",
          "text": [
            "Number of rows :  32468\n",
            "Number of columns : 133\n"
          ]
        }
      ]
    },
    {
      "cell_type": "code",
      "source": [
        "data.createOrReplaceTempView(\"data_view\")"
      ],
      "metadata": {
        "id": "bb8DeIgjQcbq"
      },
      "execution_count": null,
      "outputs": []
    },
    {
      "cell_type": "code",
      "source": [
        "data.describe()"
      ],
      "metadata": {
        "colab": {
          "base_uri": "https://localhost:8080/"
        },
        "id": "O7hqJSNuw2LR",
        "outputId": "1b2afa67-634b-4fd5-de6c-c53f069ec0d8"
      },
      "execution_count": null,
      "outputs": [
        {
          "output_type": "execute_result",
          "data": {
            "text/plain": [
              "DataFrame[summary: string, itching: string, skin_rash: string, nodal_skin_eruptions: string, continuous_sneezing: string, shivering: string, chills: string, joint_pain: string, stomach_pain: string, acidity: string, ulcers_on_tongue: string, muscle_wasting: string, vomiting: string, burning_micturition: string, spotting_ urination: string, fatigue: string, weight_gain: string, anxiety: string, cold_hands_and_feets: string, mood_swings: string, weight_loss: string, restlessness: string, lethargy: string, patches_in_throat: string, irregular_sugar_level: string, cough: string, high_fever: string, sunken_eyes: string, breathlessness: string, sweating: string, dehydration: string, indigestion: string, headache: string, yellowish_skin: string, dark_urine: string, nausea: string, loss_of_appetite: string, pain_behind_the_eyes: string, back_pain: string, constipation: string, abdominal_pain: string, diarrhoea: string, mild_fever: string, yellow_urine: string, yellowing_of_eyes: string, acute_liver_failure: string, fluid_overload45: string, swelling_of_stomach: string, swelled_lymph_nodes: string, malaise: string, blurred_and_distorted_vision: string, phlegm: string, throat_irritation: string, redness_of_eyes: string, sinus_pressure: string, runny_nose: string, congestion: string, chest_pain: string, weakness_in_limbs: string, fast_heart_rate: string, pain_during_bowel_movements: string, pain_in_anal_region: string, bloody_stool: string, irritation_in_anus: string, neck_pain: string, dizziness: string, cramps: string, bruising: string, obesity: string, swollen_legs: string, swollen_blood_vessels: string, puffy_face_and_eyes: string, enlarged_thyroid: string, brittle_nails: string, swollen_extremeties: string, excessive_hunger: string, extra_marital_contacts: string, drying_and_tingling_lips: string, slurred_speech: string, knee_pain: string, hip_joint_pain: string, muscle_weakness: string, stiff_neck: string, swelling_joints: string, movement_stiffness: string, spinning_movements: string, loss_of_balance: string, unsteadiness: string, weakness_of_one_body_side: string, loss_of_smell: string, bladder_discomfort: string, foul_smell_of urine: string, continuous_feel_of_urine: string, passage_of_gases: string, internal_itching: string, toxic_look_(typhos): string, depression: string, irritability: string, muscle_pain: string, altered_sensorium: string, red_spots_over_body: string, belly_pain: string, abnormal_menstruation: string, dischromic _patches: string, watering_from_eyes: string, increased_appetite: string, polyuria: string, family_history: string, mucoid_sputum: string, rusty_sputum: string, lack_of_concentration: string, visual_disturbances: string, receiving_blood_transfusion: string, receiving_unsterile_injections: string, coma: string, stomach_bleeding: string, distention_of_abdomen: string, history_of_alcohol_consumption: string, fluid_overload117: string, blood_in_sputum: string, prominent_veins_on_calf: string, palpitations: string, painful_walking: string, pus_filled_pimples: string, blackheads: string, scurring: string, skin_peeling: string, silver_like_dusting: string, small_dents_in_nails: string, inflammatory_nails: string, blister: string, red_sore_around_nose: string, yellow_crust_ooze: string, prognosis: string]"
            ]
          },
          "metadata": {},
          "execution_count": 82
        }
      ]
    },
    {
      "cell_type": "markdown",
      "source": [
        "## DISEASES"
      ],
      "metadata": {
        "id": "itMWSEhDw3SX"
      }
    },
    {
      "cell_type": "code",
      "source": [
        "diseases = spark.sql(\"SELECT distinct prognosis FROM data_view\")\n",
        "diseases.show()"
      ],
      "metadata": {
        "id": "ZXtDrrkcQ_1J",
        "colab": {
          "base_uri": "https://localhost:8080/"
        },
        "outputId": "3c7c901a-5523-4c9b-a3bd-68d1405b01b9"
      },
      "execution_count": null,
      "outputs": [
        {
          "output_type": "stream",
          "name": "stdout",
          "text": [
            "+--------------------+\n",
            "|           prognosis|\n",
            "+--------------------+\n",
            "|            Impetigo|\n",
            "|Urinary tract inf...|\n",
            "|     Hyperthyroidism|\n",
            "|     Gastroenteritis|\n",
            "|        Heart attack|\n",
            "| Chronic cholestasis|\n",
            "|        Tuberculosis|\n",
            "|        Hypoglycemia|\n",
            "|Cervical spondylosis|\n",
            "|         Hepatitis D|\n",
            "|     Osteoarthristis|\n",
            "|      Varicose veins|\n",
            "|            Migraine|\n",
            "|         Hepatitis B|\n",
            "|           Arthritis|\n",
            "|             Malaria|\n",
            "|      Hypothyroidism|\n",
            "|         Chicken pox|\n",
            "|       Hypertension |\n",
            "| Peptic ulcer diseae|\n",
            "+--------------------+\n",
            "only showing top 20 rows\n",
            "\n"
          ]
        }
      ]
    },
    {
      "cell_type": "code",
      "source": [
        ""
      ],
      "metadata": {
        "id": "4WyNLQ6URNZ1"
      },
      "execution_count": null,
      "outputs": []
    },
    {
      "cell_type": "markdown",
      "source": [
        "# PREDICTION"
      ],
      "metadata": {
        "id": "eyCisZFSSMHJ"
      }
    },
    {
      "cell_type": "code",
      "source": [
        "from pyspark.sql import DataFrameNaFunctions\n",
        "from pyspark.ml import Pipeline\n",
        "from pyspark.ml.classification import DecisionTreeClassifier\n",
        "from pyspark.ml.classification import LogisticRegression\n",
        "from pyspark.ml.feature import Binarizer\n",
        "from pyspark.ml.classification import RandomForestClassifier\n",
        "from pyspark.sql.functions import avg\n",
        "import pandas as pd\n",
        "import numpy as np\n",
        "import matplotlib.pyplot as plt\n",
        "%matplotlib inline\n",
        "from pyspark.ml.evaluation import MulticlassClassificationEvaluator\n",
        "from pyspark.mllib.evaluation import MulticlassMetrics\n",
        "from pyspark.ml.evaluation import BinaryClassificationEvaluator\n",
        "from sklearn.model_selection import train_test_split\n",
        "from collections import Counter"
      ],
      "metadata": {
        "id": "pwIhmjXtSPG3"
      },
      "execution_count": null,
      "outputs": []
    },
    {
      "cell_type": "code",
      "source": [
        "test_data = spark.read.csv(header=True, inferSchema= True, path=\"/content/gdrive/MyDrive/big data/Testing.csv\")\n",
        "test_data.show(5)"
      ],
      "metadata": {
        "id": "z5PVNWB-VaQd",
        "colab": {
          "base_uri": "https://localhost:8080/"
        },
        "outputId": "6effb6c4-c067-44cb-c2f5-9f4de5acce79"
      },
      "execution_count": null,
      "outputs": [
        {
          "output_type": "stream",
          "name": "stdout",
          "text": [
            "+-------+---------+--------------------+-------------------+---------+------+----------+------------+-------+----------------+--------------+--------+-------------------+-------------------+-------+-----------+-------+--------------------+-----------+-----------+------------+--------+-----------------+---------------------+-----+----------+-----------+--------------+--------+-----------+-----------+--------+--------------+----------+------+----------------+--------------------+---------+------------+--------------+---------+----------+------------+-----------------+-------------------+----------------+-------------------+-------------------+-------+----------------------------+------+-----------------+---------------+--------------+----------+----------+----------+-----------------+---------------+---------------------------+-------------------+------------+------------------+---------+---------+------+--------+-------+------------+---------------------+-------------------+----------------+-------------+-------------------+----------------+----------------------+------------------------+--------------+---------+--------------+---------------+----------+---------------+------------------+------------------+---------------+------------+-------------------------+-------------+------------------+-------------------+------------------------+----------------+----------------+-------------------+----------+------------+-----------+-----------------+-------------------+----------+---------------------+-------------------+------------------+------------------+--------+--------------+-------------+------------+---------------------+-------------------+---------------------------+------------------------------+----+----------------+---------------------+------------------------------+-----------------+---------------+-----------------------+------------+---------------+------------------+----------+--------+------------+-------------------+--------------------+------------------+-------+--------------------+-----------------+-------------------+\n",
            "|itching|skin_rash|nodal_skin_eruptions|continuous_sneezing|shivering|chills|joint_pain|stomach_pain|acidity|ulcers_on_tongue|muscle_wasting|vomiting|burning_micturition|spotting_ urination|fatigue|weight_gain|anxiety|cold_hands_and_feets|mood_swings|weight_loss|restlessness|lethargy|patches_in_throat|irregular_sugar_level|cough|high_fever|sunken_eyes|breathlessness|sweating|dehydration|indigestion|headache|yellowish_skin|dark_urine|nausea|loss_of_appetite|pain_behind_the_eyes|back_pain|constipation|abdominal_pain|diarrhoea|mild_fever|yellow_urine|yellowing_of_eyes|acute_liver_failure|fluid_overload45|swelling_of_stomach|swelled_lymph_nodes|malaise|blurred_and_distorted_vision|phlegm|throat_irritation|redness_of_eyes|sinus_pressure|runny_nose|congestion|chest_pain|weakness_in_limbs|fast_heart_rate|pain_during_bowel_movements|pain_in_anal_region|bloody_stool|irritation_in_anus|neck_pain|dizziness|cramps|bruising|obesity|swollen_legs|swollen_blood_vessels|puffy_face_and_eyes|enlarged_thyroid|brittle_nails|swollen_extremeties|excessive_hunger|extra_marital_contacts|drying_and_tingling_lips|slurred_speech|knee_pain|hip_joint_pain|muscle_weakness|stiff_neck|swelling_joints|movement_stiffness|spinning_movements|loss_of_balance|unsteadiness|weakness_of_one_body_side|loss_of_smell|bladder_discomfort|foul_smell_of urine|continuous_feel_of_urine|passage_of_gases|internal_itching|toxic_look_(typhos)|depression|irritability|muscle_pain|altered_sensorium|red_spots_over_body|belly_pain|abnormal_menstruation|dischromic _patches|watering_from_eyes|increased_appetite|polyuria|family_history|mucoid_sputum|rusty_sputum|lack_of_concentration|visual_disturbances|receiving_blood_transfusion|receiving_unsterile_injections|coma|stomach_bleeding|distention_of_abdomen|history_of_alcohol_consumption|fluid_overload117|blood_in_sputum|prominent_veins_on_calf|palpitations|painful_walking|pus_filled_pimples|blackheads|scurring|skin_peeling|silver_like_dusting|small_dents_in_nails|inflammatory_nails|blister|red_sore_around_nose|yellow_crust_ooze|          prognosis|\n",
            "+-------+---------+--------------------+-------------------+---------+------+----------+------------+-------+----------------+--------------+--------+-------------------+-------------------+-------+-----------+-------+--------------------+-----------+-----------+------------+--------+-----------------+---------------------+-----+----------+-----------+--------------+--------+-----------+-----------+--------+--------------+----------+------+----------------+--------------------+---------+------------+--------------+---------+----------+------------+-----------------+-------------------+----------------+-------------------+-------------------+-------+----------------------------+------+-----------------+---------------+--------------+----------+----------+----------+-----------------+---------------+---------------------------+-------------------+------------+------------------+---------+---------+------+--------+-------+------------+---------------------+-------------------+----------------+-------------+-------------------+----------------+----------------------+------------------------+--------------+---------+--------------+---------------+----------+---------------+------------------+------------------+---------------+------------+-------------------------+-------------+------------------+-------------------+------------------------+----------------+----------------+-------------------+----------+------------+-----------+-----------------+-------------------+----------+---------------------+-------------------+------------------+------------------+--------+--------------+-------------+------------+---------------------+-------------------+---------------------------+------------------------------+----+----------------+---------------------+------------------------------+-----------------+---------------+-----------------------+------------+---------------+------------------+----------+--------+------------+-------------------+--------------------+------------------+-------+--------------------+-----------------+-------------------+\n",
            "|      1|        1|                   1|                  0|        0|     0|         0|           0|      0|               0|             0|       0|                  0|                  0|      0|          0|      0|                   0|          0|          0|           0|       0|                0|                    0|    0|         0|          0|             0|       0|          0|          0|       0|             0|         0|     0|               0|                   0|        0|           0|             0|        0|         0|           0|                0|                  0|               0|                  0|                  0|      0|                           0|     0|                0|              0|             0|         0|         0|         0|                0|              0|                          0|                  0|           0|                 0|        0|        0|     0|       0|      0|           0|                    0|                  0|               0|            0|                  0|               0|                     0|                       0|             0|        0|             0|              0|         0|              0|                 0|                 0|              0|           0|                        0|            0|                 0|                  0|                       0|               0|               0|                  0|         0|           0|          0|                0|                  0|         0|                    0|                  1|                 0|                 0|       0|             0|            0|           0|                    0|                  0|                          0|                             0|   0|               0|                    0|                             0|                0|              0|                      0|           0|              0|                 0|         0|       0|           0|                  0|                   0|                 0|      0|                   0|                0|   Fungal infection|\n",
            "|      0|        0|                   0|                  1|        1|     1|         0|           0|      0|               0|             0|       0|                  0|                  0|      0|          0|      0|                   0|          0|          0|           0|       0|                0|                    0|    0|         0|          0|             0|       0|          0|          0|       0|             0|         0|     0|               0|                   0|        0|           0|             0|        0|         0|           0|                0|                  0|               0|                  0|                  0|      0|                           0|     0|                0|              0|             0|         0|         0|         0|                0|              0|                          0|                  0|           0|                 0|        0|        0|     0|       0|      0|           0|                    0|                  0|               0|            0|                  0|               0|                     0|                       0|             0|        0|             0|              0|         0|              0|                 0|                 0|              0|           0|                        0|            0|                 0|                  0|                       0|               0|               0|                  0|         0|           0|          0|                0|                  0|         0|                    0|                  0|                 1|                 0|       0|             0|            0|           0|                    0|                  0|                          0|                             0|   0|               0|                    0|                             0|                0|              0|                      0|           0|              0|                 0|         0|       0|           0|                  0|                   0|                 0|      0|                   0|                0|            Allergy|\n",
            "|      0|        0|                   0|                  0|        0|     0|         0|           1|      1|               1|             0|       1|                  0|                  0|      0|          0|      0|                   0|          0|          0|           0|       0|                0|                    0|    1|         0|          0|             0|       0|          0|          0|       0|             0|         0|     0|               0|                   0|        0|           0|             0|        0|         0|           0|                0|                  0|               0|                  0|                  0|      0|                           0|     0|                0|              0|             0|         0|         0|         1|                0|              0|                          0|                  0|           0|                 0|        0|        0|     0|       0|      0|           0|                    0|                  0|               0|            0|                  0|               0|                     0|                       0|             0|        0|             0|              0|         0|              0|                 0|                 0|              0|           0|                        0|            0|                 0|                  0|                       0|               0|               0|                  0|         0|           0|          0|                0|                  0|         0|                    0|                  0|                 0|                 0|       0|             0|            0|           0|                    0|                  0|                          0|                             0|   0|               0|                    0|                             0|                0|              0|                      0|           0|              0|                 0|         0|       0|           0|                  0|                   0|                 0|      0|                   0|                0|               GERD|\n",
            "|      1|        0|                   0|                  0|        0|     0|         0|           0|      0|               0|             0|       1|                  0|                  0|      0|          0|      0|                   0|          0|          0|           0|       0|                0|                    0|    0|         0|          0|             0|       0|          0|          0|       0|             1|         0|     1|               1|                   0|        0|           0|             1|        0|         0|           0|                1|                  0|               0|                  0|                  0|      0|                           0|     0|                0|              0|             0|         0|         0|         0|                0|              0|                          0|                  0|           0|                 0|        0|        0|     0|       0|      0|           0|                    0|                  0|               0|            0|                  0|               0|                     0|                       0|             0|        0|             0|              0|         0|              0|                 0|                 0|              0|           0|                        0|            0|                 0|                  0|                       0|               0|               0|                  0|         0|           0|          0|                0|                  0|         0|                    0|                  0|                 0|                 0|       0|             0|            0|           0|                    0|                  0|                          0|                             0|   0|               0|                    0|                             0|                0|              0|                      0|           0|              0|                 0|         0|       0|           0|                  0|                   0|                 0|      0|                   0|                0|Chronic cholestasis|\n",
            "|      1|        1|                   0|                  0|        0|     0|         0|           1|      0|               0|             0|       0|                  1|                  1|      0|          0|      0|                   0|          0|          0|           0|       0|                0|                    0|    0|         0|          0|             0|       0|          0|          0|       0|             0|         0|     0|               0|                   0|        0|           0|             0|        0|         0|           0|                0|                  0|               0|                  0|                  0|      0|                           0|     0|                0|              0|             0|         0|         0|         0|                0|              0|                          0|                  0|           0|                 0|        0|        0|     0|       0|      0|           0|                    0|                  0|               0|            0|                  0|               0|                     0|                       0|             0|        0|             0|              0|         0|              0|                 0|                 0|              0|           0|                        0|            0|                 0|                  0|                       0|               0|               0|                  0|         0|           0|          0|                0|                  0|         0|                    0|                  0|                 0|                 0|       0|             0|            0|           0|                    0|                  0|                          0|                             0|   0|               0|                    0|                             0|                0|              0|                      0|           0|              0|                 0|         0|       0|           0|                  0|                   0|                 0|      0|                   0|                0|      Drug Reaction|\n",
            "+-------+---------+--------------------+-------------------+---------+------+----------+------------+-------+----------------+--------------+--------+-------------------+-------------------+-------+-----------+-------+--------------------+-----------+-----------+------------+--------+-----------------+---------------------+-----+----------+-----------+--------------+--------+-----------+-----------+--------+--------------+----------+------+----------------+--------------------+---------+------------+--------------+---------+----------+------------+-----------------+-------------------+----------------+-------------------+-------------------+-------+----------------------------+------+-----------------+---------------+--------------+----------+----------+----------+-----------------+---------------+---------------------------+-------------------+------------+------------------+---------+---------+------+--------+-------+------------+---------------------+-------------------+----------------+-------------+-------------------+----------------+----------------------+------------------------+--------------+---------+--------------+---------------+----------+---------------+------------------+------------------+---------------+------------+-------------------------+-------------+------------------+-------------------+------------------------+----------------+----------------+-------------------+----------+------------+-----------+-----------------+-------------------+----------+---------------------+-------------------+------------------+------------------+--------+--------------+-------------+------------+---------------------+-------------------+---------------------------+------------------------------+----+----------------+---------------------+------------------------------+-----------------+---------------+-----------------------+------------+---------------+------------------+----------+--------+------------+-------------------+--------------------+------------------+-------+--------------------+-----------------+-------------------+\n",
            "only showing top 5 rows\n",
            "\n"
          ]
        }
      ]
    },
    {
      "cell_type": "code",
      "source": [
        "test_data.printSchema()"
      ],
      "metadata": {
        "id": "R4CVU3irVqwh",
        "colab": {
          "base_uri": "https://localhost:8080/"
        },
        "outputId": "416faa4f-9ea3-49e7-a42e-46310c5493ae"
      },
      "execution_count": null,
      "outputs": [
        {
          "output_type": "stream",
          "name": "stdout",
          "text": [
            "root\n",
            " |-- itching: integer (nullable = true)\n",
            " |-- skin_rash: integer (nullable = true)\n",
            " |-- nodal_skin_eruptions: integer (nullable = true)\n",
            " |-- continuous_sneezing: integer (nullable = true)\n",
            " |-- shivering: integer (nullable = true)\n",
            " |-- chills: integer (nullable = true)\n",
            " |-- joint_pain: integer (nullable = true)\n",
            " |-- stomach_pain: integer (nullable = true)\n",
            " |-- acidity: integer (nullable = true)\n",
            " |-- ulcers_on_tongue: integer (nullable = true)\n",
            " |-- muscle_wasting: integer (nullable = true)\n",
            " |-- vomiting: integer (nullable = true)\n",
            " |-- burning_micturition: integer (nullable = true)\n",
            " |-- spotting_ urination: integer (nullable = true)\n",
            " |-- fatigue: integer (nullable = true)\n",
            " |-- weight_gain: integer (nullable = true)\n",
            " |-- anxiety: integer (nullable = true)\n",
            " |-- cold_hands_and_feets: integer (nullable = true)\n",
            " |-- mood_swings: integer (nullable = true)\n",
            " |-- weight_loss: integer (nullable = true)\n",
            " |-- restlessness: integer (nullable = true)\n",
            " |-- lethargy: integer (nullable = true)\n",
            " |-- patches_in_throat: integer (nullable = true)\n",
            " |-- irregular_sugar_level: integer (nullable = true)\n",
            " |-- cough: integer (nullable = true)\n",
            " |-- high_fever: integer (nullable = true)\n",
            " |-- sunken_eyes: integer (nullable = true)\n",
            " |-- breathlessness: integer (nullable = true)\n",
            " |-- sweating: integer (nullable = true)\n",
            " |-- dehydration: integer (nullable = true)\n",
            " |-- indigestion: integer (nullable = true)\n",
            " |-- headache: integer (nullable = true)\n",
            " |-- yellowish_skin: integer (nullable = true)\n",
            " |-- dark_urine: integer (nullable = true)\n",
            " |-- nausea: integer (nullable = true)\n",
            " |-- loss_of_appetite: integer (nullable = true)\n",
            " |-- pain_behind_the_eyes: integer (nullable = true)\n",
            " |-- back_pain: integer (nullable = true)\n",
            " |-- constipation: integer (nullable = true)\n",
            " |-- abdominal_pain: integer (nullable = true)\n",
            " |-- diarrhoea: integer (nullable = true)\n",
            " |-- mild_fever: integer (nullable = true)\n",
            " |-- yellow_urine: integer (nullable = true)\n",
            " |-- yellowing_of_eyes: integer (nullable = true)\n",
            " |-- acute_liver_failure: integer (nullable = true)\n",
            " |-- fluid_overload45: integer (nullable = true)\n",
            " |-- swelling_of_stomach: integer (nullable = true)\n",
            " |-- swelled_lymph_nodes: integer (nullable = true)\n",
            " |-- malaise: integer (nullable = true)\n",
            " |-- blurred_and_distorted_vision: integer (nullable = true)\n",
            " |-- phlegm: integer (nullable = true)\n",
            " |-- throat_irritation: integer (nullable = true)\n",
            " |-- redness_of_eyes: integer (nullable = true)\n",
            " |-- sinus_pressure: integer (nullable = true)\n",
            " |-- runny_nose: integer (nullable = true)\n",
            " |-- congestion: integer (nullable = true)\n",
            " |-- chest_pain: integer (nullable = true)\n",
            " |-- weakness_in_limbs: integer (nullable = true)\n",
            " |-- fast_heart_rate: integer (nullable = true)\n",
            " |-- pain_during_bowel_movements: integer (nullable = true)\n",
            " |-- pain_in_anal_region: integer (nullable = true)\n",
            " |-- bloody_stool: integer (nullable = true)\n",
            " |-- irritation_in_anus: integer (nullable = true)\n",
            " |-- neck_pain: integer (nullable = true)\n",
            " |-- dizziness: integer (nullable = true)\n",
            " |-- cramps: integer (nullable = true)\n",
            " |-- bruising: integer (nullable = true)\n",
            " |-- obesity: integer (nullable = true)\n",
            " |-- swollen_legs: integer (nullable = true)\n",
            " |-- swollen_blood_vessels: integer (nullable = true)\n",
            " |-- puffy_face_and_eyes: integer (nullable = true)\n",
            " |-- enlarged_thyroid: integer (nullable = true)\n",
            " |-- brittle_nails: integer (nullable = true)\n",
            " |-- swollen_extremeties: integer (nullable = true)\n",
            " |-- excessive_hunger: integer (nullable = true)\n",
            " |-- extra_marital_contacts: integer (nullable = true)\n",
            " |-- drying_and_tingling_lips: integer (nullable = true)\n",
            " |-- slurred_speech: integer (nullable = true)\n",
            " |-- knee_pain: integer (nullable = true)\n",
            " |-- hip_joint_pain: integer (nullable = true)\n",
            " |-- muscle_weakness: integer (nullable = true)\n",
            " |-- stiff_neck: integer (nullable = true)\n",
            " |-- swelling_joints: integer (nullable = true)\n",
            " |-- movement_stiffness: integer (nullable = true)\n",
            " |-- spinning_movements: integer (nullable = true)\n",
            " |-- loss_of_balance: integer (nullable = true)\n",
            " |-- unsteadiness: integer (nullable = true)\n",
            " |-- weakness_of_one_body_side: integer (nullable = true)\n",
            " |-- loss_of_smell: integer (nullable = true)\n",
            " |-- bladder_discomfort: integer (nullable = true)\n",
            " |-- foul_smell_of urine: integer (nullable = true)\n",
            " |-- continuous_feel_of_urine: integer (nullable = true)\n",
            " |-- passage_of_gases: integer (nullable = true)\n",
            " |-- internal_itching: integer (nullable = true)\n",
            " |-- toxic_look_(typhos): integer (nullable = true)\n",
            " |-- depression: integer (nullable = true)\n",
            " |-- irritability: integer (nullable = true)\n",
            " |-- muscle_pain: integer (nullable = true)\n",
            " |-- altered_sensorium: integer (nullable = true)\n",
            " |-- red_spots_over_body: integer (nullable = true)\n",
            " |-- belly_pain: integer (nullable = true)\n",
            " |-- abnormal_menstruation: integer (nullable = true)\n",
            " |-- dischromic _patches: integer (nullable = true)\n",
            " |-- watering_from_eyes: integer (nullable = true)\n",
            " |-- increased_appetite: integer (nullable = true)\n",
            " |-- polyuria: integer (nullable = true)\n",
            " |-- family_history: integer (nullable = true)\n",
            " |-- mucoid_sputum: integer (nullable = true)\n",
            " |-- rusty_sputum: integer (nullable = true)\n",
            " |-- lack_of_concentration: integer (nullable = true)\n",
            " |-- visual_disturbances: integer (nullable = true)\n",
            " |-- receiving_blood_transfusion: integer (nullable = true)\n",
            " |-- receiving_unsterile_injections: integer (nullable = true)\n",
            " |-- coma: integer (nullable = true)\n",
            " |-- stomach_bleeding: integer (nullable = true)\n",
            " |-- distention_of_abdomen: integer (nullable = true)\n",
            " |-- history_of_alcohol_consumption: integer (nullable = true)\n",
            " |-- fluid_overload117: integer (nullable = true)\n",
            " |-- blood_in_sputum: integer (nullable = true)\n",
            " |-- prominent_veins_on_calf: integer (nullable = true)\n",
            " |-- palpitations: integer (nullable = true)\n",
            " |-- painful_walking: integer (nullable = true)\n",
            " |-- pus_filled_pimples: integer (nullable = true)\n",
            " |-- blackheads: integer (nullable = true)\n",
            " |-- scurring: integer (nullable = true)\n",
            " |-- skin_peeling: integer (nullable = true)\n",
            " |-- silver_like_dusting: integer (nullable = true)\n",
            " |-- small_dents_in_nails: integer (nullable = true)\n",
            " |-- inflammatory_nails: integer (nullable = true)\n",
            " |-- blister: integer (nullable = true)\n",
            " |-- red_sore_around_nose: integer (nullable = true)\n",
            " |-- yellow_crust_ooze: integer (nullable = true)\n",
            " |-- prognosis: string (nullable = true)\n",
            "\n"
          ]
        }
      ]
    },
    {
      "cell_type": "code",
      "source": [
        "\n",
        "print(\"Number of rows : \",test_data.count())\n",
        "print(\"Number of columns :\", len(test_data.columns))"
      ],
      "metadata": {
        "id": "5h9Y0QaUV6Zv",
        "colab": {
          "base_uri": "https://localhost:8080/"
        },
        "outputId": "e94b3cf9-5c79-4340-f999-672bab95c9fd"
      },
      "execution_count": null,
      "outputs": [
        {
          "output_type": "stream",
          "name": "stdout",
          "text": [
            "Number of rows :  41\n",
            "Number of columns : 133\n"
          ]
        }
      ]
    },
    {
      "cell_type": "markdown",
      "source": [
        "## *Setting up pipeline*"
      ],
      "metadata": {
        "id": "hwrI8Zzkxvxe"
      }
    },
    {
      "cell_type": "code",
      "source": [
        "from pyspark.ml import Pipeline\n",
        "from pyspark.ml.feature import StringIndexer\n",
        "from pyspark.ml.linalg import Vectors\n",
        "from pyspark.ml.feature import VectorAssembler"
      ],
      "metadata": {
        "id": "n_ko9-54WSL2"
      },
      "execution_count": null,
      "outputs": []
    },
    {
      "cell_type": "code",
      "source": [
        "data.show()"
      ],
      "metadata": {
        "id": "7eb5qSfkrSnT",
        "colab": {
          "base_uri": "https://localhost:8080/"
        },
        "outputId": "b76cab60-280a-4c87-f1bb-c8884c16d268"
      },
      "execution_count": null,
      "outputs": [
        {
          "output_type": "stream",
          "name": "stdout",
          "text": [
            "+-------+---------+--------------------+-------------------+---------+------+----------+------------+-------+----------------+--------------+--------+-------------------+-------------------+-------+-----------+-------+--------------------+-----------+-----------+------------+--------+-----------------+---------------------+-----+----------+-----------+--------------+--------+-----------+-----------+--------+--------------+----------+------+----------------+--------------------+---------+------------+--------------+---------+----------+------------+-----------------+-------------------+----------------+-------------------+-------------------+-------+----------------------------+------+-----------------+---------------+--------------+----------+----------+----------+-----------------+---------------+---------------------------+-------------------+------------+------------------+---------+---------+------+--------+-------+------------+---------------------+-------------------+----------------+-------------+-------------------+----------------+----------------------+------------------------+--------------+---------+--------------+---------------+----------+---------------+------------------+------------------+---------------+------------+-------------------------+-------------+------------------+-------------------+------------------------+----------------+----------------+-------------------+----------+------------+-----------+-----------------+-------------------+----------+---------------------+-------------------+------------------+------------------+--------+--------------+-------------+------------+---------------------+-------------------+---------------------------+------------------------------+----+----------------+---------------------+------------------------------+-----------------+---------------+-----------------------+------------+---------------+------------------+----------+--------+------------+-------------------+--------------------+------------------+-------+--------------------+-----------------+----------------+\n",
            "|itching|skin_rash|nodal_skin_eruptions|continuous_sneezing|shivering|chills|joint_pain|stomach_pain|acidity|ulcers_on_tongue|muscle_wasting|vomiting|burning_micturition|spotting_ urination|fatigue|weight_gain|anxiety|cold_hands_and_feets|mood_swings|weight_loss|restlessness|lethargy|patches_in_throat|irregular_sugar_level|cough|high_fever|sunken_eyes|breathlessness|sweating|dehydration|indigestion|headache|yellowish_skin|dark_urine|nausea|loss_of_appetite|pain_behind_the_eyes|back_pain|constipation|abdominal_pain|diarrhoea|mild_fever|yellow_urine|yellowing_of_eyes|acute_liver_failure|fluid_overload45|swelling_of_stomach|swelled_lymph_nodes|malaise|blurred_and_distorted_vision|phlegm|throat_irritation|redness_of_eyes|sinus_pressure|runny_nose|congestion|chest_pain|weakness_in_limbs|fast_heart_rate|pain_during_bowel_movements|pain_in_anal_region|bloody_stool|irritation_in_anus|neck_pain|dizziness|cramps|bruising|obesity|swollen_legs|swollen_blood_vessels|puffy_face_and_eyes|enlarged_thyroid|brittle_nails|swollen_extremeties|excessive_hunger|extra_marital_contacts|drying_and_tingling_lips|slurred_speech|knee_pain|hip_joint_pain|muscle_weakness|stiff_neck|swelling_joints|movement_stiffness|spinning_movements|loss_of_balance|unsteadiness|weakness_of_one_body_side|loss_of_smell|bladder_discomfort|foul_smell_of urine|continuous_feel_of_urine|passage_of_gases|internal_itching|toxic_look_(typhos)|depression|irritability|muscle_pain|altered_sensorium|red_spots_over_body|belly_pain|abnormal_menstruation|dischromic _patches|watering_from_eyes|increased_appetite|polyuria|family_history|mucoid_sputum|rusty_sputum|lack_of_concentration|visual_disturbances|receiving_blood_transfusion|receiving_unsterile_injections|coma|stomach_bleeding|distention_of_abdomen|history_of_alcohol_consumption|fluid_overload117|blood_in_sputum|prominent_veins_on_calf|palpitations|painful_walking|pus_filled_pimples|blackheads|scurring|skin_peeling|silver_like_dusting|small_dents_in_nails|inflammatory_nails|blister|red_sore_around_nose|yellow_crust_ooze|       prognosis|\n",
            "+-------+---------+--------------------+-------------------+---------+------+----------+------------+-------+----------------+--------------+--------+-------------------+-------------------+-------+-----------+-------+--------------------+-----------+-----------+------------+--------+-----------------+---------------------+-----+----------+-----------+--------------+--------+-----------+-----------+--------+--------------+----------+------+----------------+--------------------+---------+------------+--------------+---------+----------+------------+-----------------+-------------------+----------------+-------------------+-------------------+-------+----------------------------+------+-----------------+---------------+--------------+----------+----------+----------+-----------------+---------------+---------------------------+-------------------+------------+------------------+---------+---------+------+--------+-------+------------+---------------------+-------------------+----------------+-------------+-------------------+----------------+----------------------+------------------------+--------------+---------+--------------+---------------+----------+---------------+------------------+------------------+---------------+------------+-------------------------+-------------+------------------+-------------------+------------------------+----------------+----------------+-------------------+----------+------------+-----------+-----------------+-------------------+----------+---------------------+-------------------+------------------+------------------+--------+--------------+-------------+------------+---------------------+-------------------+---------------------------+------------------------------+----+----------------+---------------------+------------------------------+-----------------+---------------+-----------------------+------------+---------------+------------------+----------+--------+------------+-------------------+--------------------+------------------+-------+--------------------+-----------------+----------------+\n",
            "|      1|        1|                   1|                  0|        0|     0|         0|           0|      0|               0|             0|       0|                  0|                  0|      0|          0|      0|                   0|          0|          0|           0|       0|                0|                    0|    0|         0|          0|             0|       0|          0|          0|       0|             0|         0|     0|               0|                   0|        0|           0|             0|        0|         0|           0|                0|                  0|               0|                  0|                  0|      0|                           0|     0|                0|              0|             0|         0|         0|         0|                0|              0|                          0|                  0|           0|                 0|        0|        0|     0|       0|      0|           0|                    0|                  0|               0|            0|                  0|               0|                     0|                       0|             0|        0|             0|              0|         0|              0|                 0|                 0|              0|           0|                        0|            0|                 0|                  0|                       0|               0|               0|                  0|         0|           0|          0|                0|                  0|         0|                    0|                  1|                 0|                 0|       0|             0|            0|           0|                    0|                  0|                          0|                             0|   0|               0|                    0|                             0|                0|              0|                      0|           0|              0|                 0|         0|       0|           0|                  0|                   0|                 0|      0|                   0|                0|Fungal infection|\n",
            "|      0|        1|                   1|                  0|        0|     0|         0|           0|      0|               0|             0|       0|                  0|                  0|      0|          0|      0|                   0|          0|          0|           0|       0|                0|                    0|    0|         0|          0|             0|       0|          0|          0|       0|             0|         0|     0|               0|                   0|        0|           0|             0|        0|         0|           0|                0|                  0|               0|                  0|                  0|      0|                           0|     0|                0|              0|             0|         0|         0|         0|                0|              0|                          0|                  0|           0|                 0|        0|        0|     0|       0|      0|           0|                    0|                  0|               0|            0|                  0|               0|                     0|                       0|             0|        0|             0|              0|         0|              0|                 0|                 0|              0|           0|                        0|            0|                 0|                  0|                       0|               0|               0|                  0|         0|           0|          0|                0|                  0|         0|                    0|                  1|                 0|                 0|       0|             0|            0|           0|                    0|                  0|                          0|                             0|   0|               0|                    0|                             0|                0|              0|                      0|           0|              0|                 0|         0|       0|           0|                  0|                   0|                 0|      0|                   0|                0|Fungal infection|\n",
            "|      1|        0|                   1|                  0|        0|     0|         0|           0|      0|               0|             0|       0|                  0|                  0|      0|          0|      0|                   0|          0|          0|           0|       0|                0|                    0|    0|         0|          0|             0|       0|          0|          0|       0|             0|         0|     0|               0|                   0|        0|           0|             0|        0|         0|           0|                0|                  0|               0|                  0|                  0|      0|                           0|     0|                0|              0|             0|         0|         0|         0|                0|              0|                          0|                  0|           0|                 0|        0|        0|     0|       0|      0|           0|                    0|                  0|               0|            0|                  0|               0|                     0|                       0|             0|        0|             0|              0|         0|              0|                 0|                 0|              0|           0|                        0|            0|                 0|                  0|                       0|               0|               0|                  0|         0|           0|          0|                0|                  0|         0|                    0|                  1|                 0|                 0|       0|             0|            0|           0|                    0|                  0|                          0|                             0|   0|               0|                    0|                             0|                0|              0|                      0|           0|              0|                 0|         0|       0|           0|                  0|                   0|                 0|      0|                   0|                0|Fungal infection|\n",
            "|      1|        1|                   0|                  0|        0|     0|         0|           0|      0|               0|             0|       0|                  0|                  0|      0|          0|      0|                   0|          0|          0|           0|       0|                0|                    0|    0|         0|          0|             0|       0|          0|          0|       0|             0|         0|     0|               0|                   0|        0|           0|             0|        0|         0|           0|                0|                  0|               0|                  0|                  0|      0|                           0|     0|                0|              0|             0|         0|         0|         0|                0|              0|                          0|                  0|           0|                 0|        0|        0|     0|       0|      0|           0|                    0|                  0|               0|            0|                  0|               0|                     0|                       0|             0|        0|             0|              0|         0|              0|                 0|                 0|              0|           0|                        0|            0|                 0|                  0|                       0|               0|               0|                  0|         0|           0|          0|                0|                  0|         0|                    0|                  1|                 0|                 0|       0|             0|            0|           0|                    0|                  0|                          0|                             0|   0|               0|                    0|                             0|                0|              0|                      0|           0|              0|                 0|         0|       0|           0|                  0|                   0|                 0|      0|                   0|                0|Fungal infection|\n",
            "|      1|        1|                   1|                  0|        0|     0|         0|           0|      0|               0|             0|       0|                  0|                  0|      0|          0|      0|                   0|          0|          0|           0|       0|                0|                    0|    0|         0|          0|             0|       0|          0|          0|       0|             0|         0|     0|               0|                   0|        0|           0|             0|        0|         0|           0|                0|                  0|               0|                  0|                  0|      0|                           0|     0|                0|              0|             0|         0|         0|         0|                0|              0|                          0|                  0|           0|                 0|        0|        0|     0|       0|      0|           0|                    0|                  0|               0|            0|                  0|               0|                     0|                       0|             0|        0|             0|              0|         0|              0|                 0|                 0|              0|           0|                        0|            0|                 0|                  0|                       0|               0|               0|                  0|         0|           0|          0|                0|                  0|         0|                    0|                  0|                 0|                 0|       0|             0|            0|           0|                    0|                  0|                          0|                             0|   0|               0|                    0|                             0|                0|              0|                      0|           0|              0|                 0|         0|       0|           0|                  0|                   0|                 0|      0|                   0|                0|Fungal infection|\n",
            "|      0|        1|                   1|                  0|        0|     0|         0|           0|      0|               0|             0|       0|                  0|                  0|      0|          0|      0|                   0|          0|          0|           0|       0|                0|                    0|    0|         0|          0|             0|       0|          0|          0|       0|             0|         0|     0|               0|                   0|        0|           0|             0|        0|         0|           0|                0|                  0|               0|                  0|                  0|      0|                           0|     0|                0|              0|             0|         0|         0|         0|                0|              0|                          0|                  0|           0|                 0|        0|        0|     0|       0|      0|           0|                    0|                  0|               0|            0|                  0|               0|                     0|                       0|             0|        0|             0|              0|         0|              0|                 0|                 0|              0|           0|                        0|            0|                 0|                  0|                       0|               0|               0|                  0|         0|           0|          0|                0|                  0|         0|                    0|                  1|                 0|                 0|       0|             0|            0|           0|                    0|                  0|                          0|                             0|   0|               0|                    0|                             0|                0|              0|                      0|           0|              0|                 0|         0|       0|           0|                  0|                   0|                 0|      0|                   0|                0|Fungal infection|\n",
            "|      1|        0|                   1|                  0|        0|     0|         0|           0|      0|               0|             0|       0|                  0|                  0|      0|          0|      0|                   0|          0|          0|           0|       0|                0|                    0|    0|         0|          0|             0|       0|          0|          0|       0|             0|         0|     0|               0|                   0|        0|           0|             0|        0|         0|           0|                0|                  0|               0|                  0|                  0|      0|                           0|     0|                0|              0|             0|         0|         0|         0|                0|              0|                          0|                  0|           0|                 0|        0|        0|     0|       0|      0|           0|                    0|                  0|               0|            0|                  0|               0|                     0|                       0|             0|        0|             0|              0|         0|              0|                 0|                 0|              0|           0|                        0|            0|                 0|                  0|                       0|               0|               0|                  0|         0|           0|          0|                0|                  0|         0|                    0|                  1|                 0|                 0|       0|             0|            0|           0|                    0|                  0|                          0|                             0|   0|               0|                    0|                             0|                0|              0|                      0|           0|              0|                 0|         0|       0|           0|                  0|                   0|                 0|      0|                   0|                0|Fungal infection|\n",
            "|      1|        1|                   0|                  0|        0|     0|         0|           0|      0|               0|             0|       0|                  0|                  0|      0|          0|      0|                   0|          0|          0|           0|       0|                0|                    0|    0|         0|          0|             0|       0|          0|          0|       0|             0|         0|     0|               0|                   0|        0|           0|             0|        0|         0|           0|                0|                  0|               0|                  0|                  0|      0|                           0|     0|                0|              0|             0|         0|         0|         0|                0|              0|                          0|                  0|           0|                 0|        0|        0|     0|       0|      0|           0|                    0|                  0|               0|            0|                  0|               0|                     0|                       0|             0|        0|             0|              0|         0|              0|                 0|                 0|              0|           0|                        0|            0|                 0|                  0|                       0|               0|               0|                  0|         0|           0|          0|                0|                  0|         0|                    0|                  1|                 0|                 0|       0|             0|            0|           0|                    0|                  0|                          0|                             0|   0|               0|                    0|                             0|                0|              0|                      0|           0|              0|                 0|         0|       0|           0|                  0|                   0|                 0|      0|                   0|                0|Fungal infection|\n",
            "|      1|        1|                   1|                  0|        0|     0|         0|           0|      0|               0|             0|       0|                  0|                  0|      0|          0|      0|                   0|          0|          0|           0|       0|                0|                    0|    0|         0|          0|             0|       0|          0|          0|       0|             0|         0|     0|               0|                   0|        0|           0|             0|        0|         0|           0|                0|                  0|               0|                  0|                  0|      0|                           0|     0|                0|              0|             0|         0|         0|         0|                0|              0|                          0|                  0|           0|                 0|        0|        0|     0|       0|      0|           0|                    0|                  0|               0|            0|                  0|               0|                     0|                       0|             0|        0|             0|              0|         0|              0|                 0|                 0|              0|           0|                        0|            0|                 0|                  0|                       0|               0|               0|                  0|         0|           0|          0|                0|                  0|         0|                    0|                  0|                 0|                 0|       0|             0|            0|           0|                    0|                  0|                          0|                             0|   0|               0|                    0|                             0|                0|              0|                      0|           0|              0|                 0|         0|       0|           0|                  0|                   0|                 0|      0|                   0|                0|Fungal infection|\n",
            "|      1|        1|                   1|                  0|        0|     0|         0|           0|      0|               0|             0|       0|                  0|                  0|      0|          0|      0|                   0|          0|          0|           0|       0|                0|                    0|    0|         0|          0|             0|       0|          0|          0|       0|             0|         0|     0|               0|                   0|        0|           0|             0|        0|         0|           0|                0|                  0|               0|                  0|                  0|      0|                           0|     0|                0|              0|             0|         0|         0|         0|                0|              0|                          0|                  0|           0|                 0|        0|        0|     0|       0|      0|           0|                    0|                  0|               0|            0|                  0|               0|                     0|                       0|             0|        0|             0|              0|         0|              0|                 0|                 0|              0|           0|                        0|            0|                 0|                  0|                       0|               0|               0|                  0|         0|           0|          0|                0|                  0|         0|                    0|                  1|                 0|                 0|       0|             0|            0|           0|                    0|                  0|                          0|                             0|   0|               0|                    0|                             0|                0|              0|                      0|           0|              0|                 0|         0|       0|           0|                  0|                   0|                 0|      0|                   0|                0|Fungal infection|\n",
            "|      0|        0|                   0|                  1|        1|     1|         0|           0|      0|               0|             0|       0|                  0|                  0|      0|          0|      0|                   0|          0|          0|           0|       0|                0|                    0|    0|         0|          0|             0|       0|          0|          0|       0|             0|         0|     0|               0|                   0|        0|           0|             0|        0|         0|           0|                0|                  0|               0|                  0|                  0|      0|                           0|     0|                0|              0|             0|         0|         0|         0|                0|              0|                          0|                  0|           0|                 0|        0|        0|     0|       0|      0|           0|                    0|                  0|               0|            0|                  0|               0|                     0|                       0|             0|        0|             0|              0|         0|              0|                 0|                 0|              0|           0|                        0|            0|                 0|                  0|                       0|               0|               0|                  0|         0|           0|          0|                0|                  0|         0|                    0|                  0|                 1|                 0|       0|             0|            0|           0|                    0|                  0|                          0|                             0|   0|               0|                    0|                             0|                0|              0|                      0|           0|              0|                 0|         0|       0|           0|                  0|                   0|                 0|      0|                   0|                0|         Allergy|\n",
            "|      0|        0|                   0|                  0|        1|     1|         0|           0|      0|               0|             0|       0|                  0|                  0|      0|          0|      0|                   0|          0|          0|           0|       0|                0|                    0|    0|         0|          0|             0|       0|          0|          0|       0|             0|         0|     0|               0|                   0|        0|           0|             0|        0|         0|           0|                0|                  0|               0|                  0|                  0|      0|                           0|     0|                0|              0|             0|         0|         0|         0|                0|              0|                          0|                  0|           0|                 0|        0|        0|     0|       0|      0|           0|                    0|                  0|               0|            0|                  0|               0|                     0|                       0|             0|        0|             0|              0|         0|              0|                 0|                 0|              0|           0|                        0|            0|                 0|                  0|                       0|               0|               0|                  0|         0|           0|          0|                0|                  0|         0|                    0|                  0|                 1|                 0|       0|             0|            0|           0|                    0|                  0|                          0|                             0|   0|               0|                    0|                             0|                0|              0|                      0|           0|              0|                 0|         0|       0|           0|                  0|                   0|                 0|      0|                   0|                0|         Allergy|\n",
            "|      0|        0|                   0|                  1|        0|     1|         0|           0|      0|               0|             0|       0|                  0|                  0|      0|          0|      0|                   0|          0|          0|           0|       0|                0|                    0|    0|         0|          0|             0|       0|          0|          0|       0|             0|         0|     0|               0|                   0|        0|           0|             0|        0|         0|           0|                0|                  0|               0|                  0|                  0|      0|                           0|     0|                0|              0|             0|         0|         0|         0|                0|              0|                          0|                  0|           0|                 0|        0|        0|     0|       0|      0|           0|                    0|                  0|               0|            0|                  0|               0|                     0|                       0|             0|        0|             0|              0|         0|              0|                 0|                 0|              0|           0|                        0|            0|                 0|                  0|                       0|               0|               0|                  0|         0|           0|          0|                0|                  0|         0|                    0|                  0|                 1|                 0|       0|             0|            0|           0|                    0|                  0|                          0|                             0|   0|               0|                    0|                             0|                0|              0|                      0|           0|              0|                 0|         0|       0|           0|                  0|                   0|                 0|      0|                   0|                0|         Allergy|\n",
            "|      0|        0|                   0|                  1|        1|     0|         0|           0|      0|               0|             0|       0|                  0|                  0|      0|          0|      0|                   0|          0|          0|           0|       0|                0|                    0|    0|         0|          0|             0|       0|          0|          0|       0|             0|         0|     0|               0|                   0|        0|           0|             0|        0|         0|           0|                0|                  0|               0|                  0|                  0|      0|                           0|     0|                0|              0|             0|         0|         0|         0|                0|              0|                          0|                  0|           0|                 0|        0|        0|     0|       0|      0|           0|                    0|                  0|               0|            0|                  0|               0|                     0|                       0|             0|        0|             0|              0|         0|              0|                 0|                 0|              0|           0|                        0|            0|                 0|                  0|                       0|               0|               0|                  0|         0|           0|          0|                0|                  0|         0|                    0|                  0|                 1|                 0|       0|             0|            0|           0|                    0|                  0|                          0|                             0|   0|               0|                    0|                             0|                0|              0|                      0|           0|              0|                 0|         0|       0|           0|                  0|                   0|                 0|      0|                   0|                0|         Allergy|\n",
            "|      0|        0|                   0|                  1|        1|     1|         0|           0|      0|               0|             0|       0|                  0|                  0|      0|          0|      0|                   0|          0|          0|           0|       0|                0|                    0|    0|         0|          0|             0|       0|          0|          0|       0|             0|         0|     0|               0|                   0|        0|           0|             0|        0|         0|           0|                0|                  0|               0|                  0|                  0|      0|                           0|     0|                0|              0|             0|         0|         0|         0|                0|              0|                          0|                  0|           0|                 0|        0|        0|     0|       0|      0|           0|                    0|                  0|               0|            0|                  0|               0|                     0|                       0|             0|        0|             0|              0|         0|              0|                 0|                 0|              0|           0|                        0|            0|                 0|                  0|                       0|               0|               0|                  0|         0|           0|          0|                0|                  0|         0|                    0|                  0|                 0|                 0|       0|             0|            0|           0|                    0|                  0|                          0|                             0|   0|               0|                    0|                             0|                0|              0|                      0|           0|              0|                 0|         0|       0|           0|                  0|                   0|                 0|      0|                   0|                0|         Allergy|\n",
            "|      0|        0|                   0|                  0|        1|     1|         0|           0|      0|               0|             0|       0|                  0|                  0|      0|          0|      0|                   0|          0|          0|           0|       0|                0|                    0|    0|         0|          0|             0|       0|          0|          0|       0|             0|         0|     0|               0|                   0|        0|           0|             0|        0|         0|           0|                0|                  0|               0|                  0|                  0|      0|                           0|     0|                0|              0|             0|         0|         0|         0|                0|              0|                          0|                  0|           0|                 0|        0|        0|     0|       0|      0|           0|                    0|                  0|               0|            0|                  0|               0|                     0|                       0|             0|        0|             0|              0|         0|              0|                 0|                 0|              0|           0|                        0|            0|                 0|                  0|                       0|               0|               0|                  0|         0|           0|          0|                0|                  0|         0|                    0|                  0|                 1|                 0|       0|             0|            0|           0|                    0|                  0|                          0|                             0|   0|               0|                    0|                             0|                0|              0|                      0|           0|              0|                 0|         0|       0|           0|                  0|                   0|                 0|      0|                   0|                0|         Allergy|\n",
            "|      0|        0|                   0|                  1|        0|     1|         0|           0|      0|               0|             0|       0|                  0|                  0|      0|          0|      0|                   0|          0|          0|           0|       0|                0|                    0|    0|         0|          0|             0|       0|          0|          0|       0|             0|         0|     0|               0|                   0|        0|           0|             0|        0|         0|           0|                0|                  0|               0|                  0|                  0|      0|                           0|     0|                0|              0|             0|         0|         0|         0|                0|              0|                          0|                  0|           0|                 0|        0|        0|     0|       0|      0|           0|                    0|                  0|               0|            0|                  0|               0|                     0|                       0|             0|        0|             0|              0|         0|              0|                 0|                 0|              0|           0|                        0|            0|                 0|                  0|                       0|               0|               0|                  0|         0|           0|          0|                0|                  0|         0|                    0|                  0|                 1|                 0|       0|             0|            0|           0|                    0|                  0|                          0|                             0|   0|               0|                    0|                             0|                0|              0|                      0|           0|              0|                 0|         0|       0|           0|                  0|                   0|                 0|      0|                   0|                0|         Allergy|\n",
            "|      0|        0|                   0|                  1|        1|     0|         0|           0|      0|               0|             0|       0|                  0|                  0|      0|          0|      0|                   0|          0|          0|           0|       0|                0|                    0|    0|         0|          0|             0|       0|          0|          0|       0|             0|         0|     0|               0|                   0|        0|           0|             0|        0|         0|           0|                0|                  0|               0|                  0|                  0|      0|                           0|     0|                0|              0|             0|         0|         0|         0|                0|              0|                          0|                  0|           0|                 0|        0|        0|     0|       0|      0|           0|                    0|                  0|               0|            0|                  0|               0|                     0|                       0|             0|        0|             0|              0|         0|              0|                 0|                 0|              0|           0|                        0|            0|                 0|                  0|                       0|               0|               0|                  0|         0|           0|          0|                0|                  0|         0|                    0|                  0|                 1|                 0|       0|             0|            0|           0|                    0|                  0|                          0|                             0|   0|               0|                    0|                             0|                0|              0|                      0|           0|              0|                 0|         0|       0|           0|                  0|                   0|                 0|      0|                   0|                0|         Allergy|\n",
            "|      0|        0|                   0|                  1|        1|     1|         0|           0|      0|               0|             0|       0|                  0|                  0|      0|          0|      0|                   0|          0|          0|           0|       0|                0|                    0|    0|         0|          0|             0|       0|          0|          0|       0|             0|         0|     0|               0|                   0|        0|           0|             0|        0|         0|           0|                0|                  0|               0|                  0|                  0|      0|                           0|     0|                0|              0|             0|         0|         0|         0|                0|              0|                          0|                  0|           0|                 0|        0|        0|     0|       0|      0|           0|                    0|                  0|               0|            0|                  0|               0|                     0|                       0|             0|        0|             0|              0|         0|              0|                 0|                 0|              0|           0|                        0|            0|                 0|                  0|                       0|               0|               0|                  0|         0|           0|          0|                0|                  0|         0|                    0|                  0|                 0|                 0|       0|             0|            0|           0|                    0|                  0|                          0|                             0|   0|               0|                    0|                             0|                0|              0|                      0|           0|              0|                 0|         0|       0|           0|                  0|                   0|                 0|      0|                   0|                0|         Allergy|\n",
            "|      0|        0|                   0|                  1|        1|     1|         0|           0|      0|               0|             0|       0|                  0|                  0|      0|          0|      0|                   0|          0|          0|           0|       0|                0|                    0|    0|         0|          0|             0|       0|          0|          0|       0|             0|         0|     0|               0|                   0|        0|           0|             0|        0|         0|           0|                0|                  0|               0|                  0|                  0|      0|                           0|     0|                0|              0|             0|         0|         0|         0|                0|              0|                          0|                  0|           0|                 0|        0|        0|     0|       0|      0|           0|                    0|                  0|               0|            0|                  0|               0|                     0|                       0|             0|        0|             0|              0|         0|              0|                 0|                 0|              0|           0|                        0|            0|                 0|                  0|                       0|               0|               0|                  0|         0|           0|          0|                0|                  0|         0|                    0|                  0|                 1|                 0|       0|             0|            0|           0|                    0|                  0|                          0|                             0|   0|               0|                    0|                             0|                0|              0|                      0|           0|              0|                 0|         0|       0|           0|                  0|                   0|                 0|      0|                   0|                0|         Allergy|\n",
            "+-------+---------+--------------------+-------------------+---------+------+----------+------------+-------+----------------+--------------+--------+-------------------+-------------------+-------+-----------+-------+--------------------+-----------+-----------+------------+--------+-----------------+---------------------+-----+----------+-----------+--------------+--------+-----------+-----------+--------+--------------+----------+------+----------------+--------------------+---------+------------+--------------+---------+----------+------------+-----------------+-------------------+----------------+-------------------+-------------------+-------+----------------------------+------+-----------------+---------------+--------------+----------+----------+----------+-----------------+---------------+---------------------------+-------------------+------------+------------------+---------+---------+------+--------+-------+------------+---------------------+-------------------+----------------+-------------+-------------------+----------------+----------------------+------------------------+--------------+---------+--------------+---------------+----------+---------------+------------------+------------------+---------------+------------+-------------------------+-------------+------------------+-------------------+------------------------+----------------+----------------+-------------------+----------+------------+-----------+-----------------+-------------------+----------+---------------------+-------------------+------------------+------------------+--------+--------------+-------------+------------+---------------------+-------------------+---------------------------+------------------------------+----+----------------+---------------------+------------------------------+-----------------+---------------+-----------------------+------------+---------------+------------------+----------+--------+------------+-------------------+--------------------+------------------+-------+--------------------+-----------------+----------------+\n",
            "only showing top 20 rows\n",
            "\n"
          ]
        }
      ]
    },
    {
      "cell_type": "code",
      "source": [
        "indexers = [StringIndexer(inputCol=column, outputCol=column+\"_index\").fit(data) for column in list(set(['prognosis'])) ]\n",
        "\n",
        "pipeline = Pipeline(stages=indexers)\n",
        "df_r = pipeline.fit(data).transform(data)\n",
        "\n",
        "df_r.show()"
      ],
      "metadata": {
        "id": "rQkb40KVpfVs",
        "colab": {
          "base_uri": "https://localhost:8080/"
        },
        "outputId": "49eae32c-e6cb-45c6-b610-45348ac1a267"
      },
      "execution_count": null,
      "outputs": [
        {
          "output_type": "stream",
          "name": "stdout",
          "text": [
            "+-------+---------+--------------------+-------------------+---------+------+----------+------------+-------+----------------+--------------+--------+-------------------+-------------------+-------+-----------+-------+--------------------+-----------+-----------+------------+--------+-----------------+---------------------+-----+----------+-----------+--------------+--------+-----------+-----------+--------+--------------+----------+------+----------------+--------------------+---------+------------+--------------+---------+----------+------------+-----------------+-------------------+----------------+-------------------+-------------------+-------+----------------------------+------+-----------------+---------------+--------------+----------+----------+----------+-----------------+---------------+---------------------------+-------------------+------------+------------------+---------+---------+------+--------+-------+------------+---------------------+-------------------+----------------+-------------+-------------------+----------------+----------------------+------------------------+--------------+---------+--------------+---------------+----------+---------------+------------------+------------------+---------------+------------+-------------------------+-------------+------------------+-------------------+------------------------+----------------+----------------+-------------------+----------+------------+-----------+-----------------+-------------------+----------+---------------------+-------------------+------------------+------------------+--------+--------------+-------------+------------+---------------------+-------------------+---------------------------+------------------------------+----+----------------+---------------------+------------------------------+-----------------+---------------+-----------------------+------------+---------------+------------------+----------+--------+------------+-------------------+--------------------+------------------+-------+--------------------+-----------------+----------------+---------------+\n",
            "|itching|skin_rash|nodal_skin_eruptions|continuous_sneezing|shivering|chills|joint_pain|stomach_pain|acidity|ulcers_on_tongue|muscle_wasting|vomiting|burning_micturition|spotting_ urination|fatigue|weight_gain|anxiety|cold_hands_and_feets|mood_swings|weight_loss|restlessness|lethargy|patches_in_throat|irregular_sugar_level|cough|high_fever|sunken_eyes|breathlessness|sweating|dehydration|indigestion|headache|yellowish_skin|dark_urine|nausea|loss_of_appetite|pain_behind_the_eyes|back_pain|constipation|abdominal_pain|diarrhoea|mild_fever|yellow_urine|yellowing_of_eyes|acute_liver_failure|fluid_overload45|swelling_of_stomach|swelled_lymph_nodes|malaise|blurred_and_distorted_vision|phlegm|throat_irritation|redness_of_eyes|sinus_pressure|runny_nose|congestion|chest_pain|weakness_in_limbs|fast_heart_rate|pain_during_bowel_movements|pain_in_anal_region|bloody_stool|irritation_in_anus|neck_pain|dizziness|cramps|bruising|obesity|swollen_legs|swollen_blood_vessels|puffy_face_and_eyes|enlarged_thyroid|brittle_nails|swollen_extremeties|excessive_hunger|extra_marital_contacts|drying_and_tingling_lips|slurred_speech|knee_pain|hip_joint_pain|muscle_weakness|stiff_neck|swelling_joints|movement_stiffness|spinning_movements|loss_of_balance|unsteadiness|weakness_of_one_body_side|loss_of_smell|bladder_discomfort|foul_smell_of urine|continuous_feel_of_urine|passage_of_gases|internal_itching|toxic_look_(typhos)|depression|irritability|muscle_pain|altered_sensorium|red_spots_over_body|belly_pain|abnormal_menstruation|dischromic _patches|watering_from_eyes|increased_appetite|polyuria|family_history|mucoid_sputum|rusty_sputum|lack_of_concentration|visual_disturbances|receiving_blood_transfusion|receiving_unsterile_injections|coma|stomach_bleeding|distention_of_abdomen|history_of_alcohol_consumption|fluid_overload117|blood_in_sputum|prominent_veins_on_calf|palpitations|painful_walking|pus_filled_pimples|blackheads|scurring|skin_peeling|silver_like_dusting|small_dents_in_nails|inflammatory_nails|blister|red_sore_around_nose|yellow_crust_ooze|       prognosis|prognosis_index|\n",
            "+-------+---------+--------------------+-------------------+---------+------+----------+------------+-------+----------------+--------------+--------+-------------------+-------------------+-------+-----------+-------+--------------------+-----------+-----------+------------+--------+-----------------+---------------------+-----+----------+-----------+--------------+--------+-----------+-----------+--------+--------------+----------+------+----------------+--------------------+---------+------------+--------------+---------+----------+------------+-----------------+-------------------+----------------+-------------------+-------------------+-------+----------------------------+------+-----------------+---------------+--------------+----------+----------+----------+-----------------+---------------+---------------------------+-------------------+------------+------------------+---------+---------+------+--------+-------+------------+---------------------+-------------------+----------------+-------------+-------------------+----------------+----------------------+------------------------+--------------+---------+--------------+---------------+----------+---------------+------------------+------------------+---------------+------------+-------------------------+-------------+------------------+-------------------+------------------------+----------------+----------------+-------------------+----------+------------+-----------+-----------------+-------------------+----------+---------------------+-------------------+------------------+------------------+--------+--------------+-------------+------------+---------------------+-------------------+---------------------------+------------------------------+----+----------------+---------------------+------------------------------+-----------------+---------------+-----------------------+------------+---------------+------------------+----------+--------+------------+-------------------+--------------------+------------------+-------+--------------------+-----------------+----------------+---------------+\n",
            "|      1|        1|                   1|                  0|        0|     0|         0|           0|      0|               0|             0|       0|                  0|                  0|      0|          0|      0|                   0|          0|          0|           0|       0|                0|                    0|    0|         0|          0|             0|       0|          0|          0|       0|             0|         0|     0|               0|                   0|        0|           0|             0|        0|         0|           0|                0|                  0|               0|                  0|                  0|      0|                           0|     0|                0|              0|             0|         0|         0|         0|                0|              0|                          0|                  0|           0|                 0|        0|        0|     0|       0|      0|           0|                    0|                  0|               0|            0|                  0|               0|                     0|                       0|             0|        0|             0|              0|         0|              0|                 0|                 0|              0|           0|                        0|            0|                 0|                  0|                       0|               0|               0|                  0|         0|           0|          0|                0|                  0|         0|                    0|                  1|                 0|                 0|       0|             0|            0|           0|                    0|                  0|                          0|                             0|   0|               0|                    0|                             0|                0|              0|                      0|           0|              0|                 0|         0|       0|           0|                  0|                   0|                 0|      0|                   0|                0|Fungal infection|           24.0|\n",
            "|      0|        1|                   1|                  0|        0|     0|         0|           0|      0|               0|             0|       0|                  0|                  0|      0|          0|      0|                   0|          0|          0|           0|       0|                0|                    0|    0|         0|          0|             0|       0|          0|          0|       0|             0|         0|     0|               0|                   0|        0|           0|             0|        0|         0|           0|                0|                  0|               0|                  0|                  0|      0|                           0|     0|                0|              0|             0|         0|         0|         0|                0|              0|                          0|                  0|           0|                 0|        0|        0|     0|       0|      0|           0|                    0|                  0|               0|            0|                  0|               0|                     0|                       0|             0|        0|             0|              0|         0|              0|                 0|                 0|              0|           0|                        0|            0|                 0|                  0|                       0|               0|               0|                  0|         0|           0|          0|                0|                  0|         0|                    0|                  1|                 0|                 0|       0|             0|            0|           0|                    0|                  0|                          0|                             0|   0|               0|                    0|                             0|                0|              0|                      0|           0|              0|                 0|         0|       0|           0|                  0|                   0|                 0|      0|                   0|                0|Fungal infection|           24.0|\n",
            "|      1|        0|                   1|                  0|        0|     0|         0|           0|      0|               0|             0|       0|                  0|                  0|      0|          0|      0|                   0|          0|          0|           0|       0|                0|                    0|    0|         0|          0|             0|       0|          0|          0|       0|             0|         0|     0|               0|                   0|        0|           0|             0|        0|         0|           0|                0|                  0|               0|                  0|                  0|      0|                           0|     0|                0|              0|             0|         0|         0|         0|                0|              0|                          0|                  0|           0|                 0|        0|        0|     0|       0|      0|           0|                    0|                  0|               0|            0|                  0|               0|                     0|                       0|             0|        0|             0|              0|         0|              0|                 0|                 0|              0|           0|                        0|            0|                 0|                  0|                       0|               0|               0|                  0|         0|           0|          0|                0|                  0|         0|                    0|                  1|                 0|                 0|       0|             0|            0|           0|                    0|                  0|                          0|                             0|   0|               0|                    0|                             0|                0|              0|                      0|           0|              0|                 0|         0|       0|           0|                  0|                   0|                 0|      0|                   0|                0|Fungal infection|           24.0|\n",
            "|      1|        1|                   0|                  0|        0|     0|         0|           0|      0|               0|             0|       0|                  0|                  0|      0|          0|      0|                   0|          0|          0|           0|       0|                0|                    0|    0|         0|          0|             0|       0|          0|          0|       0|             0|         0|     0|               0|                   0|        0|           0|             0|        0|         0|           0|                0|                  0|               0|                  0|                  0|      0|                           0|     0|                0|              0|             0|         0|         0|         0|                0|              0|                          0|                  0|           0|                 0|        0|        0|     0|       0|      0|           0|                    0|                  0|               0|            0|                  0|               0|                     0|                       0|             0|        0|             0|              0|         0|              0|                 0|                 0|              0|           0|                        0|            0|                 0|                  0|                       0|               0|               0|                  0|         0|           0|          0|                0|                  0|         0|                    0|                  1|                 0|                 0|       0|             0|            0|           0|                    0|                  0|                          0|                             0|   0|               0|                    0|                             0|                0|              0|                      0|           0|              0|                 0|         0|       0|           0|                  0|                   0|                 0|      0|                   0|                0|Fungal infection|           24.0|\n",
            "|      1|        1|                   1|                  0|        0|     0|         0|           0|      0|               0|             0|       0|                  0|                  0|      0|          0|      0|                   0|          0|          0|           0|       0|                0|                    0|    0|         0|          0|             0|       0|          0|          0|       0|             0|         0|     0|               0|                   0|        0|           0|             0|        0|         0|           0|                0|                  0|               0|                  0|                  0|      0|                           0|     0|                0|              0|             0|         0|         0|         0|                0|              0|                          0|                  0|           0|                 0|        0|        0|     0|       0|      0|           0|                    0|                  0|               0|            0|                  0|               0|                     0|                       0|             0|        0|             0|              0|         0|              0|                 0|                 0|              0|           0|                        0|            0|                 0|                  0|                       0|               0|               0|                  0|         0|           0|          0|                0|                  0|         0|                    0|                  0|                 0|                 0|       0|             0|            0|           0|                    0|                  0|                          0|                             0|   0|               0|                    0|                             0|                0|              0|                      0|           0|              0|                 0|         0|       0|           0|                  0|                   0|                 0|      0|                   0|                0|Fungal infection|           24.0|\n",
            "|      0|        1|                   1|                  0|        0|     0|         0|           0|      0|               0|             0|       0|                  0|                  0|      0|          0|      0|                   0|          0|          0|           0|       0|                0|                    0|    0|         0|          0|             0|       0|          0|          0|       0|             0|         0|     0|               0|                   0|        0|           0|             0|        0|         0|           0|                0|                  0|               0|                  0|                  0|      0|                           0|     0|                0|              0|             0|         0|         0|         0|                0|              0|                          0|                  0|           0|                 0|        0|        0|     0|       0|      0|           0|                    0|                  0|               0|            0|                  0|               0|                     0|                       0|             0|        0|             0|              0|         0|              0|                 0|                 0|              0|           0|                        0|            0|                 0|                  0|                       0|               0|               0|                  0|         0|           0|          0|                0|                  0|         0|                    0|                  1|                 0|                 0|       0|             0|            0|           0|                    0|                  0|                          0|                             0|   0|               0|                    0|                             0|                0|              0|                      0|           0|              0|                 0|         0|       0|           0|                  0|                   0|                 0|      0|                   0|                0|Fungal infection|           24.0|\n",
            "|      1|        0|                   1|                  0|        0|     0|         0|           0|      0|               0|             0|       0|                  0|                  0|      0|          0|      0|                   0|          0|          0|           0|       0|                0|                    0|    0|         0|          0|             0|       0|          0|          0|       0|             0|         0|     0|               0|                   0|        0|           0|             0|        0|         0|           0|                0|                  0|               0|                  0|                  0|      0|                           0|     0|                0|              0|             0|         0|         0|         0|                0|              0|                          0|                  0|           0|                 0|        0|        0|     0|       0|      0|           0|                    0|                  0|               0|            0|                  0|               0|                     0|                       0|             0|        0|             0|              0|         0|              0|                 0|                 0|              0|           0|                        0|            0|                 0|                  0|                       0|               0|               0|                  0|         0|           0|          0|                0|                  0|         0|                    0|                  1|                 0|                 0|       0|             0|            0|           0|                    0|                  0|                          0|                             0|   0|               0|                    0|                             0|                0|              0|                      0|           0|              0|                 0|         0|       0|           0|                  0|                   0|                 0|      0|                   0|                0|Fungal infection|           24.0|\n",
            "|      1|        1|                   0|                  0|        0|     0|         0|           0|      0|               0|             0|       0|                  0|                  0|      0|          0|      0|                   0|          0|          0|           0|       0|                0|                    0|    0|         0|          0|             0|       0|          0|          0|       0|             0|         0|     0|               0|                   0|        0|           0|             0|        0|         0|           0|                0|                  0|               0|                  0|                  0|      0|                           0|     0|                0|              0|             0|         0|         0|         0|                0|              0|                          0|                  0|           0|                 0|        0|        0|     0|       0|      0|           0|                    0|                  0|               0|            0|                  0|               0|                     0|                       0|             0|        0|             0|              0|         0|              0|                 0|                 0|              0|           0|                        0|            0|                 0|                  0|                       0|               0|               0|                  0|         0|           0|          0|                0|                  0|         0|                    0|                  1|                 0|                 0|       0|             0|            0|           0|                    0|                  0|                          0|                             0|   0|               0|                    0|                             0|                0|              0|                      0|           0|              0|                 0|         0|       0|           0|                  0|                   0|                 0|      0|                   0|                0|Fungal infection|           24.0|\n",
            "|      1|        1|                   1|                  0|        0|     0|         0|           0|      0|               0|             0|       0|                  0|                  0|      0|          0|      0|                   0|          0|          0|           0|       0|                0|                    0|    0|         0|          0|             0|       0|          0|          0|       0|             0|         0|     0|               0|                   0|        0|           0|             0|        0|         0|           0|                0|                  0|               0|                  0|                  0|      0|                           0|     0|                0|              0|             0|         0|         0|         0|                0|              0|                          0|                  0|           0|                 0|        0|        0|     0|       0|      0|           0|                    0|                  0|               0|            0|                  0|               0|                     0|                       0|             0|        0|             0|              0|         0|              0|                 0|                 0|              0|           0|                        0|            0|                 0|                  0|                       0|               0|               0|                  0|         0|           0|          0|                0|                  0|         0|                    0|                  0|                 0|                 0|       0|             0|            0|           0|                    0|                  0|                          0|                             0|   0|               0|                    0|                             0|                0|              0|                      0|           0|              0|                 0|         0|       0|           0|                  0|                   0|                 0|      0|                   0|                0|Fungal infection|           24.0|\n",
            "|      1|        1|                   1|                  0|        0|     0|         0|           0|      0|               0|             0|       0|                  0|                  0|      0|          0|      0|                   0|          0|          0|           0|       0|                0|                    0|    0|         0|          0|             0|       0|          0|          0|       0|             0|         0|     0|               0|                   0|        0|           0|             0|        0|         0|           0|                0|                  0|               0|                  0|                  0|      0|                           0|     0|                0|              0|             0|         0|         0|         0|                0|              0|                          0|                  0|           0|                 0|        0|        0|     0|       0|      0|           0|                    0|                  0|               0|            0|                  0|               0|                     0|                       0|             0|        0|             0|              0|         0|              0|                 0|                 0|              0|           0|                        0|            0|                 0|                  0|                       0|               0|               0|                  0|         0|           0|          0|                0|                  0|         0|                    0|                  1|                 0|                 0|       0|             0|            0|           0|                    0|                  0|                          0|                             0|   0|               0|                    0|                             0|                0|              0|                      0|           0|              0|                 0|         0|       0|           0|                  0|                   0|                 0|      0|                   0|                0|Fungal infection|           24.0|\n",
            "|      0|        0|                   0|                  1|        1|     1|         0|           0|      0|               0|             0|       0|                  0|                  0|      0|          0|      0|                   0|          0|          0|           0|       0|                0|                    0|    0|         0|          0|             0|       0|          0|          0|       0|             0|         0|     0|               0|                   0|        0|           0|             0|        0|         0|           0|                0|                  0|               0|                  0|                  0|      0|                           0|     0|                0|              0|             0|         0|         0|         0|                0|              0|                          0|                  0|           0|                 0|        0|        0|     0|       0|      0|           0|                    0|                  0|               0|            0|                  0|               0|                     0|                       0|             0|        0|             0|              0|         0|              0|                 0|                 0|              0|           0|                        0|            0|                 0|                  0|                       0|               0|               0|                  0|         0|           0|          0|                0|                  0|         0|                    0|                  0|                 1|                 0|       0|             0|            0|           0|                    0|                  0|                          0|                             0|   0|               0|                    0|                             0|                0|              0|                      0|           0|              0|                 0|         0|       0|           0|                  0|                   0|                 0|      0|                   0|                0|         Allergy|           16.0|\n",
            "|      0|        0|                   0|                  0|        1|     1|         0|           0|      0|               0|             0|       0|                  0|                  0|      0|          0|      0|                   0|          0|          0|           0|       0|                0|                    0|    0|         0|          0|             0|       0|          0|          0|       0|             0|         0|     0|               0|                   0|        0|           0|             0|        0|         0|           0|                0|                  0|               0|                  0|                  0|      0|                           0|     0|                0|              0|             0|         0|         0|         0|                0|              0|                          0|                  0|           0|                 0|        0|        0|     0|       0|      0|           0|                    0|                  0|               0|            0|                  0|               0|                     0|                       0|             0|        0|             0|              0|         0|              0|                 0|                 0|              0|           0|                        0|            0|                 0|                  0|                       0|               0|               0|                  0|         0|           0|          0|                0|                  0|         0|                    0|                  0|                 1|                 0|       0|             0|            0|           0|                    0|                  0|                          0|                             0|   0|               0|                    0|                             0|                0|              0|                      0|           0|              0|                 0|         0|       0|           0|                  0|                   0|                 0|      0|                   0|                0|         Allergy|           16.0|\n",
            "|      0|        0|                   0|                  1|        0|     1|         0|           0|      0|               0|             0|       0|                  0|                  0|      0|          0|      0|                   0|          0|          0|           0|       0|                0|                    0|    0|         0|          0|             0|       0|          0|          0|       0|             0|         0|     0|               0|                   0|        0|           0|             0|        0|         0|           0|                0|                  0|               0|                  0|                  0|      0|                           0|     0|                0|              0|             0|         0|         0|         0|                0|              0|                          0|                  0|           0|                 0|        0|        0|     0|       0|      0|           0|                    0|                  0|               0|            0|                  0|               0|                     0|                       0|             0|        0|             0|              0|         0|              0|                 0|                 0|              0|           0|                        0|            0|                 0|                  0|                       0|               0|               0|                  0|         0|           0|          0|                0|                  0|         0|                    0|                  0|                 1|                 0|       0|             0|            0|           0|                    0|                  0|                          0|                             0|   0|               0|                    0|                             0|                0|              0|                      0|           0|              0|                 0|         0|       0|           0|                  0|                   0|                 0|      0|                   0|                0|         Allergy|           16.0|\n",
            "|      0|        0|                   0|                  1|        1|     0|         0|           0|      0|               0|             0|       0|                  0|                  0|      0|          0|      0|                   0|          0|          0|           0|       0|                0|                    0|    0|         0|          0|             0|       0|          0|          0|       0|             0|         0|     0|               0|                   0|        0|           0|             0|        0|         0|           0|                0|                  0|               0|                  0|                  0|      0|                           0|     0|                0|              0|             0|         0|         0|         0|                0|              0|                          0|                  0|           0|                 0|        0|        0|     0|       0|      0|           0|                    0|                  0|               0|            0|                  0|               0|                     0|                       0|             0|        0|             0|              0|         0|              0|                 0|                 0|              0|           0|                        0|            0|                 0|                  0|                       0|               0|               0|                  0|         0|           0|          0|                0|                  0|         0|                    0|                  0|                 1|                 0|       0|             0|            0|           0|                    0|                  0|                          0|                             0|   0|               0|                    0|                             0|                0|              0|                      0|           0|              0|                 0|         0|       0|           0|                  0|                   0|                 0|      0|                   0|                0|         Allergy|           16.0|\n",
            "|      0|        0|                   0|                  1|        1|     1|         0|           0|      0|               0|             0|       0|                  0|                  0|      0|          0|      0|                   0|          0|          0|           0|       0|                0|                    0|    0|         0|          0|             0|       0|          0|          0|       0|             0|         0|     0|               0|                   0|        0|           0|             0|        0|         0|           0|                0|                  0|               0|                  0|                  0|      0|                           0|     0|                0|              0|             0|         0|         0|         0|                0|              0|                          0|                  0|           0|                 0|        0|        0|     0|       0|      0|           0|                    0|                  0|               0|            0|                  0|               0|                     0|                       0|             0|        0|             0|              0|         0|              0|                 0|                 0|              0|           0|                        0|            0|                 0|                  0|                       0|               0|               0|                  0|         0|           0|          0|                0|                  0|         0|                    0|                  0|                 0|                 0|       0|             0|            0|           0|                    0|                  0|                          0|                             0|   0|               0|                    0|                             0|                0|              0|                      0|           0|              0|                 0|         0|       0|           0|                  0|                   0|                 0|      0|                   0|                0|         Allergy|           16.0|\n",
            "|      0|        0|                   0|                  0|        1|     1|         0|           0|      0|               0|             0|       0|                  0|                  0|      0|          0|      0|                   0|          0|          0|           0|       0|                0|                    0|    0|         0|          0|             0|       0|          0|          0|       0|             0|         0|     0|               0|                   0|        0|           0|             0|        0|         0|           0|                0|                  0|               0|                  0|                  0|      0|                           0|     0|                0|              0|             0|         0|         0|         0|                0|              0|                          0|                  0|           0|                 0|        0|        0|     0|       0|      0|           0|                    0|                  0|               0|            0|                  0|               0|                     0|                       0|             0|        0|             0|              0|         0|              0|                 0|                 0|              0|           0|                        0|            0|                 0|                  0|                       0|               0|               0|                  0|         0|           0|          0|                0|                  0|         0|                    0|                  0|                 1|                 0|       0|             0|            0|           0|                    0|                  0|                          0|                             0|   0|               0|                    0|                             0|                0|              0|                      0|           0|              0|                 0|         0|       0|           0|                  0|                   0|                 0|      0|                   0|                0|         Allergy|           16.0|\n",
            "|      0|        0|                   0|                  1|        0|     1|         0|           0|      0|               0|             0|       0|                  0|                  0|      0|          0|      0|                   0|          0|          0|           0|       0|                0|                    0|    0|         0|          0|             0|       0|          0|          0|       0|             0|         0|     0|               0|                   0|        0|           0|             0|        0|         0|           0|                0|                  0|               0|                  0|                  0|      0|                           0|     0|                0|              0|             0|         0|         0|         0|                0|              0|                          0|                  0|           0|                 0|        0|        0|     0|       0|      0|           0|                    0|                  0|               0|            0|                  0|               0|                     0|                       0|             0|        0|             0|              0|         0|              0|                 0|                 0|              0|           0|                        0|            0|                 0|                  0|                       0|               0|               0|                  0|         0|           0|          0|                0|                  0|         0|                    0|                  0|                 1|                 0|       0|             0|            0|           0|                    0|                  0|                          0|                             0|   0|               0|                    0|                             0|                0|              0|                      0|           0|              0|                 0|         0|       0|           0|                  0|                   0|                 0|      0|                   0|                0|         Allergy|           16.0|\n",
            "|      0|        0|                   0|                  1|        1|     0|         0|           0|      0|               0|             0|       0|                  0|                  0|      0|          0|      0|                   0|          0|          0|           0|       0|                0|                    0|    0|         0|          0|             0|       0|          0|          0|       0|             0|         0|     0|               0|                   0|        0|           0|             0|        0|         0|           0|                0|                  0|               0|                  0|                  0|      0|                           0|     0|                0|              0|             0|         0|         0|         0|                0|              0|                          0|                  0|           0|                 0|        0|        0|     0|       0|      0|           0|                    0|                  0|               0|            0|                  0|               0|                     0|                       0|             0|        0|             0|              0|         0|              0|                 0|                 0|              0|           0|                        0|            0|                 0|                  0|                       0|               0|               0|                  0|         0|           0|          0|                0|                  0|         0|                    0|                  0|                 1|                 0|       0|             0|            0|           0|                    0|                  0|                          0|                             0|   0|               0|                    0|                             0|                0|              0|                      0|           0|              0|                 0|         0|       0|           0|                  0|                   0|                 0|      0|                   0|                0|         Allergy|           16.0|\n",
            "|      0|        0|                   0|                  1|        1|     1|         0|           0|      0|               0|             0|       0|                  0|                  0|      0|          0|      0|                   0|          0|          0|           0|       0|                0|                    0|    0|         0|          0|             0|       0|          0|          0|       0|             0|         0|     0|               0|                   0|        0|           0|             0|        0|         0|           0|                0|                  0|               0|                  0|                  0|      0|                           0|     0|                0|              0|             0|         0|         0|         0|                0|              0|                          0|                  0|           0|                 0|        0|        0|     0|       0|      0|           0|                    0|                  0|               0|            0|                  0|               0|                     0|                       0|             0|        0|             0|              0|         0|              0|                 0|                 0|              0|           0|                        0|            0|                 0|                  0|                       0|               0|               0|                  0|         0|           0|          0|                0|                  0|         0|                    0|                  0|                 0|                 0|       0|             0|            0|           0|                    0|                  0|                          0|                             0|   0|               0|                    0|                             0|                0|              0|                      0|           0|              0|                 0|         0|       0|           0|                  0|                   0|                 0|      0|                   0|                0|         Allergy|           16.0|\n",
            "|      0|        0|                   0|                  1|        1|     1|         0|           0|      0|               0|             0|       0|                  0|                  0|      0|          0|      0|                   0|          0|          0|           0|       0|                0|                    0|    0|         0|          0|             0|       0|          0|          0|       0|             0|         0|     0|               0|                   0|        0|           0|             0|        0|         0|           0|                0|                  0|               0|                  0|                  0|      0|                           0|     0|                0|              0|             0|         0|         0|         0|                0|              0|                          0|                  0|           0|                 0|        0|        0|     0|       0|      0|           0|                    0|                  0|               0|            0|                  0|               0|                     0|                       0|             0|        0|             0|              0|         0|              0|                 0|                 0|              0|           0|                        0|            0|                 0|                  0|                       0|               0|               0|                  0|         0|           0|          0|                0|                  0|         0|                    0|                  0|                 1|                 0|       0|             0|            0|           0|                    0|                  0|                          0|                             0|   0|               0|                    0|                             0|                0|              0|                      0|           0|              0|                 0|         0|       0|           0|                  0|                   0|                 0|      0|                   0|                0|         Allergy|           16.0|\n",
            "+-------+---------+--------------------+-------------------+---------+------+----------+------------+-------+----------------+--------------+--------+-------------------+-------------------+-------+-----------+-------+--------------------+-----------+-----------+------------+--------+-----------------+---------------------+-----+----------+-----------+--------------+--------+-----------+-----------+--------+--------------+----------+------+----------------+--------------------+---------+------------+--------------+---------+----------+------------+-----------------+-------------------+----------------+-------------------+-------------------+-------+----------------------------+------+-----------------+---------------+--------------+----------+----------+----------+-----------------+---------------+---------------------------+-------------------+------------+------------------+---------+---------+------+--------+-------+------------+---------------------+-------------------+----------------+-------------+-------------------+----------------+----------------------+------------------------+--------------+---------+--------------+---------------+----------+---------------+------------------+------------------+---------------+------------+-------------------------+-------------+------------------+-------------------+------------------------+----------------+----------------+-------------------+----------+------------+-----------+-----------------+-------------------+----------+---------------------+-------------------+------------------+------------------+--------+--------------+-------------+------------+---------------------+-------------------+---------------------------+------------------------------+----+----------------+---------------------+------------------------------+-----------------+---------------+-----------------------+------------+---------------+------------------+----------+--------+------------+-------------------+--------------------+------------------+-------+--------------------+-----------------+----------------+---------------+\n",
            "only showing top 20 rows\n",
            "\n"
          ]
        }
      ]
    },
    {
      "cell_type": "code",
      "source": [
        "#transforming features into vector form \n",
        "assembler = VectorAssembler(inputCols = list(set(data.columns)-set(['prognosis','prognosis_index'])), outputCol = 'features')\n",
        "output = assembler.transform(df_r)\n",
        "output.show(3)"
      ],
      "metadata": {
        "id": "mIyl1uwKp9gk",
        "colab": {
          "base_uri": "https://localhost:8080/"
        },
        "outputId": "9c0e51db-e88c-401a-e3a1-2a9bc321017d"
      },
      "execution_count": null,
      "outputs": [
        {
          "output_type": "stream",
          "name": "stdout",
          "text": [
            "+-------+---------+--------------------+-------------------+---------+------+----------+------------+-------+----------------+--------------+--------+-------------------+-------------------+-------+-----------+-------+--------------------+-----------+-----------+------------+--------+-----------------+---------------------+-----+----------+-----------+--------------+--------+-----------+-----------+--------+--------------+----------+------+----------------+--------------------+---------+------------+--------------+---------+----------+------------+-----------------+-------------------+----------------+-------------------+-------------------+-------+----------------------------+------+-----------------+---------------+--------------+----------+----------+----------+-----------------+---------------+---------------------------+-------------------+------------+------------------+---------+---------+------+--------+-------+------------+---------------------+-------------------+----------------+-------------+-------------------+----------------+----------------------+------------------------+--------------+---------+--------------+---------------+----------+---------------+------------------+------------------+---------------+------------+-------------------------+-------------+------------------+-------------------+------------------------+----------------+----------------+-------------------+----------+------------+-----------+-----------------+-------------------+----------+---------------------+-------------------+------------------+------------------+--------+--------------+-------------+------------+---------------------+-------------------+---------------------------+------------------------------+----+----------------+---------------------+------------------------------+-----------------+---------------+-----------------------+------------+---------------+------------------+----------+--------+------------+-------------------+--------------------+------------------+-------+--------------------+-----------------+----------------+---------------+--------------------+\n",
            "|itching|skin_rash|nodal_skin_eruptions|continuous_sneezing|shivering|chills|joint_pain|stomach_pain|acidity|ulcers_on_tongue|muscle_wasting|vomiting|burning_micturition|spotting_ urination|fatigue|weight_gain|anxiety|cold_hands_and_feets|mood_swings|weight_loss|restlessness|lethargy|patches_in_throat|irregular_sugar_level|cough|high_fever|sunken_eyes|breathlessness|sweating|dehydration|indigestion|headache|yellowish_skin|dark_urine|nausea|loss_of_appetite|pain_behind_the_eyes|back_pain|constipation|abdominal_pain|diarrhoea|mild_fever|yellow_urine|yellowing_of_eyes|acute_liver_failure|fluid_overload45|swelling_of_stomach|swelled_lymph_nodes|malaise|blurred_and_distorted_vision|phlegm|throat_irritation|redness_of_eyes|sinus_pressure|runny_nose|congestion|chest_pain|weakness_in_limbs|fast_heart_rate|pain_during_bowel_movements|pain_in_anal_region|bloody_stool|irritation_in_anus|neck_pain|dizziness|cramps|bruising|obesity|swollen_legs|swollen_blood_vessels|puffy_face_and_eyes|enlarged_thyroid|brittle_nails|swollen_extremeties|excessive_hunger|extra_marital_contacts|drying_and_tingling_lips|slurred_speech|knee_pain|hip_joint_pain|muscle_weakness|stiff_neck|swelling_joints|movement_stiffness|spinning_movements|loss_of_balance|unsteadiness|weakness_of_one_body_side|loss_of_smell|bladder_discomfort|foul_smell_of urine|continuous_feel_of_urine|passage_of_gases|internal_itching|toxic_look_(typhos)|depression|irritability|muscle_pain|altered_sensorium|red_spots_over_body|belly_pain|abnormal_menstruation|dischromic _patches|watering_from_eyes|increased_appetite|polyuria|family_history|mucoid_sputum|rusty_sputum|lack_of_concentration|visual_disturbances|receiving_blood_transfusion|receiving_unsterile_injections|coma|stomach_bleeding|distention_of_abdomen|history_of_alcohol_consumption|fluid_overload117|blood_in_sputum|prominent_veins_on_calf|palpitations|painful_walking|pus_filled_pimples|blackheads|scurring|skin_peeling|silver_like_dusting|small_dents_in_nails|inflammatory_nails|blister|red_sore_around_nose|yellow_crust_ooze|       prognosis|prognosis_index|            features|\n",
            "+-------+---------+--------------------+-------------------+---------+------+----------+------------+-------+----------------+--------------+--------+-------------------+-------------------+-------+-----------+-------+--------------------+-----------+-----------+------------+--------+-----------------+---------------------+-----+----------+-----------+--------------+--------+-----------+-----------+--------+--------------+----------+------+----------------+--------------------+---------+------------+--------------+---------+----------+------------+-----------------+-------------------+----------------+-------------------+-------------------+-------+----------------------------+------+-----------------+---------------+--------------+----------+----------+----------+-----------------+---------------+---------------------------+-------------------+------------+------------------+---------+---------+------+--------+-------+------------+---------------------+-------------------+----------------+-------------+-------------------+----------------+----------------------+------------------------+--------------+---------+--------------+---------------+----------+---------------+------------------+------------------+---------------+------------+-------------------------+-------------+------------------+-------------------+------------------------+----------------+----------------+-------------------+----------+------------+-----------+-----------------+-------------------+----------+---------------------+-------------------+------------------+------------------+--------+--------------+-------------+------------+---------------------+-------------------+---------------------------+------------------------------+----+----------------+---------------------+------------------------------+-----------------+---------------+-----------------------+------------+---------------+------------------+----------+--------+------------+-------------------+--------------------+------------------+-------+--------------------+-----------------+----------------+---------------+--------------------+\n",
            "|      1|        1|                   1|                  0|        0|     0|         0|           0|      0|               0|             0|       0|                  0|                  0|      0|          0|      0|                   0|          0|          0|           0|       0|                0|                    0|    0|         0|          0|             0|       0|          0|          0|       0|             0|         0|     0|               0|                   0|        0|           0|             0|        0|         0|           0|                0|                  0|               0|                  0|                  0|      0|                           0|     0|                0|              0|             0|         0|         0|         0|                0|              0|                          0|                  0|           0|                 0|        0|        0|     0|       0|      0|           0|                    0|                  0|               0|            0|                  0|               0|                     0|                       0|             0|        0|             0|              0|         0|              0|                 0|                 0|              0|           0|                        0|            0|                 0|                  0|                       0|               0|               0|                  0|         0|           0|          0|                0|                  0|         0|                    0|                  1|                 0|                 0|       0|             0|            0|           0|                    0|                  0|                          0|                             0|   0|               0|                    0|                             0|                0|              0|                      0|           0|              0|                 0|         0|       0|           0|                  0|                   0|                 0|      0|                   0|                0|Fungal infection|           24.0|(132,[29,47,69,98...|\n",
            "|      0|        1|                   1|                  0|        0|     0|         0|           0|      0|               0|             0|       0|                  0|                  0|      0|          0|      0|                   0|          0|          0|           0|       0|                0|                    0|    0|         0|          0|             0|       0|          0|          0|       0|             0|         0|     0|               0|                   0|        0|           0|             0|        0|         0|           0|                0|                  0|               0|                  0|                  0|      0|                           0|     0|                0|              0|             0|         0|         0|         0|                0|              0|                          0|                  0|           0|                 0|        0|        0|     0|       0|      0|           0|                    0|                  0|               0|            0|                  0|               0|                     0|                       0|             0|        0|             0|              0|         0|              0|                 0|                 0|              0|           0|                        0|            0|                 0|                  0|                       0|               0|               0|                  0|         0|           0|          0|                0|                  0|         0|                    0|                  1|                 0|                 0|       0|             0|            0|           0|                    0|                  0|                          0|                             0|   0|               0|                    0|                             0|                0|              0|                      0|           0|              0|                 0|         0|       0|           0|                  0|                   0|                 0|      0|                   0|                0|Fungal infection|           24.0|(132,[29,47,98],[...|\n",
            "|      1|        0|                   1|                  0|        0|     0|         0|           0|      0|               0|             0|       0|                  0|                  0|      0|          0|      0|                   0|          0|          0|           0|       0|                0|                    0|    0|         0|          0|             0|       0|          0|          0|       0|             0|         0|     0|               0|                   0|        0|           0|             0|        0|         0|           0|                0|                  0|               0|                  0|                  0|      0|                           0|     0|                0|              0|             0|         0|         0|         0|                0|              0|                          0|                  0|           0|                 0|        0|        0|     0|       0|      0|           0|                    0|                  0|               0|            0|                  0|               0|                     0|                       0|             0|        0|             0|              0|         0|              0|                 0|                 0|              0|           0|                        0|            0|                 0|                  0|                       0|               0|               0|                  0|         0|           0|          0|                0|                  0|         0|                    0|                  1|                 0|                 0|       0|             0|            0|           0|                    0|                  0|                          0|                             0|   0|               0|                    0|                             0|                0|              0|                      0|           0|              0|                 0|         0|       0|           0|                  0|                   0|                 0|      0|                   0|                0|Fungal infection|           24.0|(132,[29,69,98],[...|\n",
            "+-------+---------+--------------------+-------------------+---------+------+----------+------------+-------+----------------+--------------+--------+-------------------+-------------------+-------+-----------+-------+--------------------+-----------+-----------+------------+--------+-----------------+---------------------+-----+----------+-----------+--------------+--------+-----------+-----------+--------+--------------+----------+------+----------------+--------------------+---------+------------+--------------+---------+----------+------------+-----------------+-------------------+----------------+-------------------+-------------------+-------+----------------------------+------+-----------------+---------------+--------------+----------+----------+----------+-----------------+---------------+---------------------------+-------------------+------------+------------------+---------+---------+------+--------+-------+------------+---------------------+-------------------+----------------+-------------+-------------------+----------------+----------------------+------------------------+--------------+---------+--------------+---------------+----------+---------------+------------------+------------------+---------------+------------+-------------------------+-------------+------------------+-------------------+------------------------+----------------+----------------+-------------------+----------+------------+-----------+-----------------+-------------------+----------+---------------------+-------------------+------------------+------------------+--------+--------------+-------------+------------+---------------------+-------------------+---------------------------+------------------------------+----+----------------+---------------------+------------------------------+-----------------+---------------+-----------------------+------------+---------------+------------------+----------+--------+------------+-------------------+--------------------+------------------+-------+--------------------+-----------------+----------------+---------------+--------------------+\n",
            "only showing top 3 rows\n",
            "\n"
          ]
        }
      ]
    },
    {
      "cell_type": "code",
      "source": [
        "\n",
        "type(output)"
      ],
      "metadata": {
        "id": "6awz4ptTtqrL",
        "colab": {
          "base_uri": "https://localhost:8080/"
        },
        "outputId": "10c42914-8dbe-4273-8501-799fb4cf54ca"
      },
      "execution_count": null,
      "outputs": [
        {
          "output_type": "execute_result",
          "data": {
            "text/plain": [
              "pyspark.sql.dataframe.DataFrame"
            ]
          },
          "metadata": {},
          "execution_count": 92
        }
      ]
    },
    {
      "cell_type": "code",
      "source": [
        "#mapping prognosis index\n",
        "prognosis = output.select([\"prognosis_index\",\"prognosis\"])\n",
        "prognosis.show()"
      ],
      "metadata": {
        "colab": {
          "base_uri": "https://localhost:8080/"
        },
        "id": "wcL9Phoymsz1",
        "outputId": "8a48dad4-1703-4c53-9ccf-52c97cfb8675"
      },
      "execution_count": null,
      "outputs": [
        {
          "output_type": "stream",
          "name": "stdout",
          "text": [
            "+---------------+----------------+\n",
            "|prognosis_index|       prognosis|\n",
            "+---------------+----------------+\n",
            "|           24.0|Fungal infection|\n",
            "|           24.0|Fungal infection|\n",
            "|           24.0|Fungal infection|\n",
            "|           24.0|Fungal infection|\n",
            "|           24.0|Fungal infection|\n",
            "|           24.0|Fungal infection|\n",
            "|           24.0|Fungal infection|\n",
            "|           24.0|Fungal infection|\n",
            "|           24.0|Fungal infection|\n",
            "|           24.0|Fungal infection|\n",
            "|           16.0|         Allergy|\n",
            "|           16.0|         Allergy|\n",
            "|           16.0|         Allergy|\n",
            "|           16.0|         Allergy|\n",
            "|           16.0|         Allergy|\n",
            "|           16.0|         Allergy|\n",
            "|           16.0|         Allergy|\n",
            "|           16.0|         Allergy|\n",
            "|           16.0|         Allergy|\n",
            "|           16.0|         Allergy|\n",
            "+---------------+----------------+\n",
            "only showing top 20 rows\n",
            "\n"
          ]
        }
      ]
    },
    {
      "cell_type": "code",
      "source": [
        "#final data that will be input\n",
        "final_data = output.select(['features', 'prognosis_index'])\n",
        "final_data.show(3)"
      ],
      "metadata": {
        "id": "B6klODK4qbl9",
        "colab": {
          "base_uri": "https://localhost:8080/"
        },
        "outputId": "3f4f5eac-e2f1-4753-abe9-9ad98606e617"
      },
      "execution_count": null,
      "outputs": [
        {
          "output_type": "stream",
          "name": "stdout",
          "text": [
            "+--------------------+---------------+\n",
            "|            features|prognosis_index|\n",
            "+--------------------+---------------+\n",
            "|(132,[29,47,69,98...|           24.0|\n",
            "|(132,[29,47,98],[...|           24.0|\n",
            "|(132,[29,69,98],[...|           24.0|\n",
            "+--------------------+---------------+\n",
            "only showing top 3 rows\n",
            "\n"
          ]
        }
      ]
    },
    {
      "cell_type": "markdown",
      "source": [
        "# Splitting the dataset"
      ],
      "metadata": {
        "id": "VuwgCykHyLSK"
      }
    },
    {
      "cell_type": "code",
      "source": [
        "train, test = final_data.randomSplit([0.7, 0.3])"
      ],
      "metadata": {
        "id": "_SiEp5PYZjJg"
      },
      "execution_count": null,
      "outputs": []
    },
    {
      "cell_type": "code",
      "source": [
        "\n",
        "test.show()"
      ],
      "metadata": {
        "colab": {
          "base_uri": "https://localhost:8080/"
        },
        "id": "77giNmk_rtys",
        "outputId": "04daec13-1b50-410d-9f65-fc3468c34561"
      },
      "execution_count": null,
      "outputs": [
        {
          "output_type": "stream",
          "name": "stdout",
          "text": [
            "+--------------------+---------------+\n",
            "|            features|prognosis_index|\n",
            "+--------------------+---------------+\n",
            "|(132,[0,14,38,43,...|            7.0|\n",
            "|(132,[0,14,38,43,...|            7.0|\n",
            "|(132,[0,14,38,43,...|            7.0|\n",
            "|(132,[0,14,38,43,...|            7.0|\n",
            "|(132,[0,14,38,43,...|            7.0|\n",
            "|(132,[0,14,38,43,...|            7.0|\n",
            "|(132,[0,14,38,43,...|            7.0|\n",
            "|(132,[0,14,38,43,...|            7.0|\n",
            "|(132,[0,14,38,43,...|            7.0|\n",
            "|(132,[0,14,38,43,...|            7.0|\n",
            "|(132,[0,14,38,43,...|            7.0|\n",
            "|(132,[0,14,38,43,...|            7.0|\n",
            "|(132,[0,14,38,43,...|            7.0|\n",
            "|(132,[0,14,38,43,...|            7.0|\n",
            "|(132,[0,14,38,43,...|            7.0|\n",
            "|(132,[0,14,38,43,...|            7.0|\n",
            "|(132,[0,14,38,43,...|            7.0|\n",
            "|(132,[0,14,38,43,...|            7.0|\n",
            "|(132,[0,14,38,43,...|            7.0|\n",
            "|(132,[0,14,38,43,...|            7.0|\n",
            "+--------------------+---------------+\n",
            "only showing top 20 rows\n",
            "\n"
          ]
        }
      ]
    },
    {
      "cell_type": "markdown",
      "source": [
        "Using Mlib we will be doing prediction "
      ],
      "metadata": {
        "id": "lhXbxfvcyThi"
      }
    },
    {
      "cell_type": "code",
      "source": [
        "#matrix evaluator \n",
        "from pyspark.ml.evaluation import MulticlassClassificationEvaluator\n",
        "\n",
        "multi_evaluator = MulticlassClassificationEvaluator(labelCol = 'prognosis_index', metricName = 'accuracy')"
      ],
      "metadata": {
        "id": "Ku2Cwq2RHb8D"
      },
      "execution_count": null,
      "outputs": []
    },
    {
      "cell_type": "markdown",
      "source": [
        "# LOGISTIC REGRESSION"
      ],
      "metadata": {
        "id": "ov2yzYDGymAy"
      }
    },
    {
      "cell_type": "code",
      "source": [
        "from pyspark.ml.classification import LogisticRegression\n",
        "import timeit\n",
        "\n",
        "start = timeit.default_timer()\n",
        "log_reg = LogisticRegression(labelCol= 'prognosis_index', featuresCol  = 'features')\n",
        "log_reg_model = log_reg.fit(train)\n",
        "stop = timeit.default_timer()\n",
        "log_reg_predictions = log_reg_model.transform(test)\n",
        "log_reg_predictions.show()\n",
        "print('LogisticRegression Accu:', multi_evaluator.evaluate(log_reg_predictions))"
      ],
      "metadata": {
        "id": "brjy1dAIn9_o",
        "colab": {
          "base_uri": "https://localhost:8080/"
        },
        "outputId": "415fa152-5b27-439e-83f7-c51206c09856"
      },
      "execution_count": null,
      "outputs": [
        {
          "output_type": "stream",
          "name": "stdout",
          "text": [
            "+--------------------+---------------+--------------------+--------------------+----------+\n",
            "|            features|prognosis_index|       rawPrediction|         probability|prediction|\n",
            "+--------------------+---------------+--------------------+--------------------+----------+\n",
            "|(132,[0,14,38,43,...|            7.0|[-3.7949762157871...|[4.57480249411954...|       7.0|\n",
            "|(132,[0,14,38,43,...|            7.0|[-3.7949762157871...|[4.57480249411954...|       7.0|\n",
            "|(132,[0,14,38,43,...|            7.0|[-3.7949762157871...|[4.57480249411954...|       7.0|\n",
            "|(132,[0,14,38,43,...|            7.0|[-3.7949762157871...|[4.57480249411954...|       7.0|\n",
            "|(132,[0,14,38,43,...|            7.0|[-3.7949762157871...|[4.57480249411954...|       7.0|\n",
            "|(132,[0,14,38,43,...|            7.0|[-3.7949762157871...|[4.57480249411954...|       7.0|\n",
            "|(132,[0,14,38,43,...|            7.0|[-3.7949762157871...|[4.57480249411954...|       7.0|\n",
            "|(132,[0,14,38,43,...|            7.0|[-3.7949762157871...|[4.57480249411954...|       7.0|\n",
            "|(132,[0,14,38,43,...|            7.0|[-3.7949762157871...|[4.57480249411954...|       7.0|\n",
            "|(132,[0,14,38,43,...|            7.0|[-3.7949762157871...|[4.57480249411954...|       7.0|\n",
            "|(132,[0,14,38,43,...|            7.0|[-3.7949762157871...|[4.57480249411954...|       7.0|\n",
            "|(132,[0,14,38,43,...|            7.0|[-3.7949762157871...|[4.57480249411954...|       7.0|\n",
            "|(132,[0,14,38,43,...|            7.0|[-3.7949762157871...|[4.57480249411954...|       7.0|\n",
            "|(132,[0,14,38,43,...|            7.0|[-3.7949762157871...|[4.57480249411954...|       7.0|\n",
            "|(132,[0,14,38,43,...|            7.0|[-2.4123430536680...|[1.24200654253152...|       7.0|\n",
            "|(132,[0,14,38,43,...|            7.0|[-2.4123430536680...|[1.24200654253152...|       7.0|\n",
            "|(132,[0,14,38,43,...|            7.0|[-2.4123430536680...|[1.24200654253152...|       7.0|\n",
            "|(132,[0,14,38,43,...|            7.0|[-2.4123430536680...|[1.24200654253152...|       7.0|\n",
            "|(132,[0,14,38,43,...|            7.0|[-2.4123430536680...|[1.24200654253152...|       7.0|\n",
            "|(132,[0,14,38,43,...|            7.0|[-2.4123430536680...|[1.24200654253152...|       7.0|\n",
            "+--------------------+---------------+--------------------+--------------------+----------+\n",
            "only showing top 20 rows\n",
            "\n",
            "LogisticRegression Accu: 1.0\n"
          ]
        }
      ]
    },
    {
      "cell_type": "code",
      "source": [
        "\n",
        "\n",
        "print('Time: ', stop -start)  "
      ],
      "metadata": {
        "colab": {
          "base_uri": "https://localhost:8080/"
        },
        "id": "Pe3Ghgva5l_-",
        "outputId": "b721d138-53a9-4f61-90f9-5123e902ea36"
      },
      "execution_count": null,
      "outputs": [
        {
          "output_type": "stream",
          "name": "stdout",
          "text": [
            "Time:  5.795089321999967\n"
          ]
        }
      ]
    },
    {
      "cell_type": "code",
      "source": [
        ""
      ],
      "metadata": {
        "id": "8jsM3LQXnK0y"
      },
      "execution_count": null,
      "outputs": []
    },
    {
      "cell_type": "markdown",
      "source": [
        "# Random Forest"
      ],
      "metadata": {
        "id": "GrHg598M4DFs"
      }
    },
    {
      "cell_type": "code",
      "source": [
        "from pyspark.ml.regression import RandomForestRegressor\n",
        "rf = RandomForestRegressor(labelCol=\"prognosis_index\", featuresCol=\"features\")\n",
        "pipeline = Pipeline(stages=[rf])\n",
        "rf_model = pipeline.fit(train)\n",
        "predictions_rf = rf_model.transform(test)\n",
        "predictions_rf.show()"
      ],
      "metadata": {
        "id": "YWsvyKfDmgoc",
        "colab": {
          "base_uri": "https://localhost:8080/"
        },
        "outputId": "9c416e89-c234-47bc-965d-76e842d426ad"
      },
      "execution_count": null,
      "outputs": [
        {
          "output_type": "stream",
          "name": "stdout",
          "text": [
            "+--------------------+---------------+------------------+\n",
            "|            features|prognosis_index|        prediction|\n",
            "+--------------------+---------------+------------------+\n",
            "|(132,[0,17,114,11...|            2.0|10.650579159091624|\n",
            "|(132,[0,17,114,11...|            2.0|10.650579159091624|\n",
            "|(132,[0,17,114,11...|            2.0|10.650579159091624|\n",
            "|(132,[0,17,114,11...|            2.0|10.650579159091624|\n",
            "|(132,[0,17,114,11...|            2.0|10.650579159091624|\n",
            "|(132,[0,17,114,11...|            2.0|10.650579159091624|\n",
            "|(132,[0,17,114,11...|            2.0|10.650579159091624|\n",
            "|(132,[0,17,114,11...|            2.0| 5.861248494971603|\n",
            "|(132,[0,17,114,11...|            2.0| 5.861248494971603|\n",
            "|(132,[0,17,114,11...|            2.0| 5.861248494971603|\n",
            "|(132,[0,17,114,11...|            2.0| 5.861248494971603|\n",
            "|(132,[0,17,114,11...|            2.0| 5.861248494971603|\n",
            "|(132,[0,17,114,11...|            2.0| 5.861248494971603|\n",
            "|(132,[0,17,114,11...|            2.0| 5.861248494971603|\n",
            "|(132,[0,17,114,11...|            2.0| 5.861248494971603|\n",
            "|(132,[0,17,114,11...|            2.0| 5.861248494971603|\n",
            "|(132,[0,17,114,11...|            2.0| 5.861248494971603|\n",
            "|(132,[0,17,114,11...|            2.0| 5.861248494971603|\n",
            "|(132,[0,17,114,11...|            2.0| 5.861248494971603|\n",
            "|(132,[0,17,114,11...|            2.0| 5.861248494971603|\n",
            "+--------------------+---------------+------------------+\n",
            "only showing top 20 rows\n",
            "\n"
          ]
        }
      ]
    },
    {
      "cell_type": "code",
      "source": [
        ""
      ],
      "metadata": {
        "id": "5vhfupAd3yN_"
      },
      "execution_count": null,
      "outputs": []
    },
    {
      "cell_type": "markdown",
      "source": [
        "## **DECISION TREE**"
      ],
      "metadata": {
        "id": "-dpmNMQlyq4g"
      }
    },
    {
      "cell_type": "code",
      "source": [
        "dt = DecisionTreeClassifier(labelCol=\"prognosis_index\", featuresCol=\"features\", maxDepth=25, minInstancesPerNode=30, impurity=\"gini\")\n",
        "pipeline = Pipeline(stages=[dt])\n",
        "model = pipeline.fit(train)"
      ],
      "metadata": {
        "id": "q7Z2VH3SoZDX"
      },
      "execution_count": null,
      "outputs": []
    },
    {
      "cell_type": "code",
      "source": [
        "predictions = model.transform(test)\n",
        "predictions.show()"
      ],
      "metadata": {
        "id": "e37obV9psHVm",
        "colab": {
          "base_uri": "https://localhost:8080/"
        },
        "outputId": "cdc423fa-4ac6-4393-f770-355ff53f6915"
      },
      "execution_count": null,
      "outputs": [
        {
          "output_type": "stream",
          "name": "stdout",
          "text": [
            "+--------------------+---------------+--------------------+--------------------+----------+\n",
            "|            features|prognosis_index|       rawPrediction|         probability|prediction|\n",
            "+--------------------+---------------+--------------------+--------------------+----------+\n",
            "|(132,[0,17,114,11...|            2.0|[0.0,0.0,521.0,0....|[0.0,0.0,1.0,0.0,...|       2.0|\n",
            "|(132,[0,17,114,11...|            2.0|[0.0,0.0,521.0,0....|[0.0,0.0,1.0,0.0,...|       2.0|\n",
            "|(132,[0,17,114,11...|            2.0|[0.0,0.0,521.0,0....|[0.0,0.0,1.0,0.0,...|       2.0|\n",
            "|(132,[0,17,114,11...|            2.0|[0.0,0.0,521.0,0....|[0.0,0.0,1.0,0.0,...|       2.0|\n",
            "|(132,[0,17,114,11...|            2.0|[0.0,0.0,521.0,0....|[0.0,0.0,1.0,0.0,...|       2.0|\n",
            "|(132,[0,17,114,11...|            2.0|[0.0,0.0,521.0,0....|[0.0,0.0,1.0,0.0,...|       2.0|\n",
            "|(132,[0,17,114,11...|            2.0|[0.0,0.0,521.0,0....|[0.0,0.0,1.0,0.0,...|       2.0|\n",
            "|(132,[0,17,114,11...|            2.0|[0.0,0.0,521.0,0....|[0.0,0.0,1.0,0.0,...|       2.0|\n",
            "|(132,[0,17,114,11...|            2.0|[0.0,0.0,521.0,0....|[0.0,0.0,1.0,0.0,...|       2.0|\n",
            "|(132,[0,17,114,11...|            2.0|[0.0,0.0,521.0,0....|[0.0,0.0,1.0,0.0,...|       2.0|\n",
            "|(132,[0,17,114,11...|            2.0|[0.0,0.0,521.0,0....|[0.0,0.0,1.0,0.0,...|       2.0|\n",
            "|(132,[0,17,114,11...|            2.0|[0.0,0.0,521.0,0....|[0.0,0.0,1.0,0.0,...|       2.0|\n",
            "|(132,[0,17,114,11...|            2.0|[0.0,0.0,521.0,0....|[0.0,0.0,1.0,0.0,...|       2.0|\n",
            "|(132,[0,17,114,11...|            2.0|[0.0,0.0,521.0,0....|[0.0,0.0,1.0,0.0,...|       2.0|\n",
            "|(132,[0,17,114,11...|            2.0|[0.0,0.0,521.0,0....|[0.0,0.0,1.0,0.0,...|       2.0|\n",
            "|(132,[0,17,114,11...|            2.0|[0.0,0.0,521.0,0....|[0.0,0.0,1.0,0.0,...|       2.0|\n",
            "|(132,[0,17,114,11...|            2.0|[0.0,0.0,521.0,0....|[0.0,0.0,1.0,0.0,...|       2.0|\n",
            "|(132,[0,17,114,11...|            2.0|[0.0,0.0,521.0,0....|[0.0,0.0,1.0,0.0,...|       2.0|\n",
            "|(132,[0,17,114,11...|            2.0|[0.0,0.0,521.0,0....|[0.0,0.0,1.0,0.0,...|       2.0|\n",
            "|(132,[0,17,114,11...|            2.0|[0.0,0.0,521.0,0....|[0.0,0.0,1.0,0.0,...|       2.0|\n",
            "+--------------------+---------------+--------------------+--------------------+----------+\n",
            "only showing top 20 rows\n",
            "\n"
          ]
        }
      ]
    },
    {
      "cell_type": "code",
      "source": [
        "print('DT Accu:', multi_evaluator.evaluate(predictions))"
      ],
      "metadata": {
        "colab": {
          "base_uri": "https://localhost:8080/"
        },
        "id": "tGeCQB09sLHP",
        "outputId": "72883b10-5768-49eb-a54b-580482c78008"
      },
      "execution_count": null,
      "outputs": [
        {
          "output_type": "stream",
          "name": "stdout",
          "text": [
            "DT Accu: 0.6524108152565026\n"
          ]
        }
      ]
    },
    {
      "cell_type": "markdown",
      "source": [
        "# USER INPUT "
      ],
      "metadata": {
        "id": "glHPsWvjywsY"
      }
    },
    {
      "cell_type": "code",
      "source": [
        "dict_input = {}\n",
        "for x in data.columns:\n",
        "    dict_input[x] = 0\n",
        "dict_input.pop('prognosis',None)"
      ],
      "metadata": {
        "id": "_gZHvcVSsUYt",
        "colab": {
          "base_uri": "https://localhost:8080/"
        },
        "outputId": "97d84e55-6ac0-4588-ffac-493bbcd2542b"
      },
      "execution_count": null,
      "outputs": [
        {
          "output_type": "execute_result",
          "data": {
            "text/plain": [
              "0"
            ]
          },
          "metadata": {},
          "execution_count": 159
        }
      ]
    },
    {
      "cell_type": "code",
      "source": [
        "dict_input"
      ],
      "metadata": {
        "id": "tUc4cYYH2LRr",
        "colab": {
          "base_uri": "https://localhost:8080/"
        },
        "outputId": "157388ee-418d-4e23-b7ed-5d21cc18f1f8"
      },
      "execution_count": null,
      "outputs": [
        {
          "output_type": "execute_result",
          "data": {
            "text/plain": [
              "{'abdominal_pain': 0,\n",
              " 'abnormal_menstruation': 0,\n",
              " 'acidity': 0,\n",
              " 'acute_liver_failure': 0,\n",
              " 'altered_sensorium': 0,\n",
              " 'anxiety': 0,\n",
              " 'back_pain': 0,\n",
              " 'belly_pain': 0,\n",
              " 'blackheads': 0,\n",
              " 'bladder_discomfort': 0,\n",
              " 'blister': 0,\n",
              " 'blood_in_sputum': 0,\n",
              " 'bloody_stool': 0,\n",
              " 'blurred_and_distorted_vision': 0,\n",
              " 'breathlessness': 0,\n",
              " 'brittle_nails': 0,\n",
              " 'bruising': 0,\n",
              " 'burning_micturition': 0,\n",
              " 'chest_pain': 0,\n",
              " 'chills': 0,\n",
              " 'cold_hands_and_feets': 0,\n",
              " 'coma': 0,\n",
              " 'congestion': 0,\n",
              " 'constipation': 0,\n",
              " 'continuous_feel_of_urine': 0,\n",
              " 'continuous_sneezing': 0,\n",
              " 'cough': 0,\n",
              " 'cramps': 0,\n",
              " 'dark_urine': 0,\n",
              " 'dehydration': 0,\n",
              " 'depression': 0,\n",
              " 'diarrhoea': 0,\n",
              " 'dischromic _patches': 0,\n",
              " 'distention_of_abdomen': 0,\n",
              " 'dizziness': 0,\n",
              " 'drying_and_tingling_lips': 0,\n",
              " 'enlarged_thyroid': 0,\n",
              " 'excessive_hunger': 0,\n",
              " 'extra_marital_contacts': 0,\n",
              " 'family_history': 0,\n",
              " 'fast_heart_rate': 0,\n",
              " 'fatigue': 0,\n",
              " 'fluid_overload117': 0,\n",
              " 'fluid_overload45': 0,\n",
              " 'foul_smell_of urine': 0,\n",
              " 'headache': 0,\n",
              " 'high_fever': 0,\n",
              " 'hip_joint_pain': 0,\n",
              " 'history_of_alcohol_consumption': 0,\n",
              " 'increased_appetite': 0,\n",
              " 'indigestion': 0,\n",
              " 'inflammatory_nails': 0,\n",
              " 'internal_itching': 0,\n",
              " 'irregular_sugar_level': 0,\n",
              " 'irritability': 0,\n",
              " 'irritation_in_anus': 0,\n",
              " 'itching': 0,\n",
              " 'joint_pain': 0,\n",
              " 'knee_pain': 0,\n",
              " 'lack_of_concentration': 0,\n",
              " 'lethargy': 0,\n",
              " 'loss_of_appetite': 0,\n",
              " 'loss_of_balance': 0,\n",
              " 'loss_of_smell': 0,\n",
              " 'malaise': 0,\n",
              " 'mild_fever': 0,\n",
              " 'mood_swings': 0,\n",
              " 'movement_stiffness': 0,\n",
              " 'mucoid_sputum': 0,\n",
              " 'muscle_pain': 0,\n",
              " 'muscle_wasting': 0,\n",
              " 'muscle_weakness': 0,\n",
              " 'nausea': 0,\n",
              " 'neck_pain': 0,\n",
              " 'nodal_skin_eruptions': 0,\n",
              " 'obesity': 0,\n",
              " 'pain_behind_the_eyes': 0,\n",
              " 'pain_during_bowel_movements': 0,\n",
              " 'pain_in_anal_region': 0,\n",
              " 'painful_walking': 0,\n",
              " 'palpitations': 0,\n",
              " 'passage_of_gases': 0,\n",
              " 'patches_in_throat': 0,\n",
              " 'phlegm': 0,\n",
              " 'polyuria': 0,\n",
              " 'prominent_veins_on_calf': 0,\n",
              " 'puffy_face_and_eyes': 0,\n",
              " 'pus_filled_pimples': 0,\n",
              " 'receiving_blood_transfusion': 0,\n",
              " 'receiving_unsterile_injections': 0,\n",
              " 'red_sore_around_nose': 0,\n",
              " 'red_spots_over_body': 0,\n",
              " 'redness_of_eyes': 0,\n",
              " 'restlessness': 0,\n",
              " 'runny_nose': 0,\n",
              " 'rusty_sputum': 0,\n",
              " 'scurring': 0,\n",
              " 'shivering': 0,\n",
              " 'silver_like_dusting': 0,\n",
              " 'sinus_pressure': 0,\n",
              " 'skin_peeling': 0,\n",
              " 'skin_rash': 0,\n",
              " 'slurred_speech': 0,\n",
              " 'small_dents_in_nails': 0,\n",
              " 'spinning_movements': 0,\n",
              " 'spotting_ urination': 0,\n",
              " 'stiff_neck': 0,\n",
              " 'stomach_bleeding': 0,\n",
              " 'stomach_pain': 0,\n",
              " 'sunken_eyes': 0,\n",
              " 'sweating': 0,\n",
              " 'swelled_lymph_nodes': 0,\n",
              " 'swelling_joints': 0,\n",
              " 'swelling_of_stomach': 0,\n",
              " 'swollen_blood_vessels': 0,\n",
              " 'swollen_extremeties': 0,\n",
              " 'swollen_legs': 0,\n",
              " 'throat_irritation': 0,\n",
              " 'toxic_look_(typhos)': 0,\n",
              " 'ulcers_on_tongue': 0,\n",
              " 'unsteadiness': 0,\n",
              " 'visual_disturbances': 0,\n",
              " 'vomiting': 0,\n",
              " 'watering_from_eyes': 0,\n",
              " 'weakness_in_limbs': 0,\n",
              " 'weakness_of_one_body_side': 0,\n",
              " 'weight_gain': 0,\n",
              " 'weight_loss': 0,\n",
              " 'yellow_crust_ooze': 0,\n",
              " 'yellow_urine': 0,\n",
              " 'yellowing_of_eyes': 0,\n",
              " 'yellowish_skin': 0}"
            ]
          },
          "metadata": {},
          "execution_count": 160
        }
      ]
    },
    {
      "cell_type": "code",
      "source": [
        "more = 'yes'\n",
        "for x in range(0,100):\n",
        "    if(more == 'yes' or more == 'Yes'):\n",
        "        symp = input(\"Enter Symptoms from above: \")\n",
        "        dict_input[symp]= 1\n",
        "        more = input(\"Any more symptoms :Yes or No \")\n",
        "    else:\n",
        "        break"
      ],
      "metadata": {
        "id": "1yJ7uKKk2LUT",
        "colab": {
          "base_uri": "https://localhost:8080/"
        },
        "outputId": "e7ec4665-57d3-42b4-f5da-5b238e5d76a2"
      },
      "execution_count": null,
      "outputs": [
        {
          "name": "stdout",
          "output_type": "stream",
          "text": [
            "Enter Symptoms from above: weight_loss\n",
            "Any more symptoms :Yes or No yes\n",
            "Enter Symptoms from above: yellow_urine\n",
            "Any more symptoms :Yes or No no\n"
          ]
        }
      ]
    },
    {
      "cell_type": "markdown",
      "source": [
        ""
      ],
      "metadata": {
        "id": "Wk1Xpf8SrnsL"
      }
    },
    {
      "cell_type": "code",
      "source": [
        "'''\n",
        "input_symp = []\n",
        "for x in dict_input.values():\n",
        "    input_symp.append(x)\n",
        "'''\n",
        "\n",
        "dict_input"
      ],
      "metadata": {
        "id": "T66xMxt32LX3",
        "colab": {
          "base_uri": "https://localhost:8080/"
        },
        "outputId": "ac00d4a8-58ef-4164-c2d9-92b33fe03115"
      },
      "execution_count": null,
      "outputs": [
        {
          "output_type": "execute_result",
          "data": {
            "text/plain": [
              "{'abdominal_pain': 0,\n",
              " 'abnormal_menstruation': 0,\n",
              " 'acidity': 0,\n",
              " 'acute_liver_failure': 0,\n",
              " 'altered_sensorium': 0,\n",
              " 'anxiety': 0,\n",
              " 'back_pain': 0,\n",
              " 'belly_pain': 0,\n",
              " 'blackheads': 0,\n",
              " 'bladder_discomfort': 0,\n",
              " 'blister': 0,\n",
              " 'blood_in_sputum': 0,\n",
              " 'bloody_stool': 0,\n",
              " 'blurred_and_distorted_vision': 0,\n",
              " 'breathlessness': 0,\n",
              " 'brittle_nails': 0,\n",
              " 'bruising': 0,\n",
              " 'burning_micturition': 0,\n",
              " 'chest_pain': 0,\n",
              " 'chills': 0,\n",
              " 'cold_hands_and_feets': 0,\n",
              " 'coma': 0,\n",
              " 'congestion': 0,\n",
              " 'constipation': 0,\n",
              " 'continuous_feel_of_urine': 0,\n",
              " 'continuous_sneezing': 0,\n",
              " 'cough': 0,\n",
              " 'cramps': 0,\n",
              " 'dark_urine': 0,\n",
              " 'dehydration': 0,\n",
              " 'depression': 0,\n",
              " 'diarrhoea': 0,\n",
              " 'dischromic _patches': 0,\n",
              " 'distention_of_abdomen': 0,\n",
              " 'dizziness': 0,\n",
              " 'drying_and_tingling_lips': 0,\n",
              " 'enlarged_thyroid': 0,\n",
              " 'excessive_hunger': 0,\n",
              " 'extra_marital_contacts': 0,\n",
              " 'family_history': 0,\n",
              " 'fast_heart_rate': 0,\n",
              " 'fatigue': 0,\n",
              " 'fluid_overload117': 0,\n",
              " 'fluid_overload45': 0,\n",
              " 'foul_smell_of urine': 0,\n",
              " 'headache': 0,\n",
              " 'high_fever': 0,\n",
              " 'hip_joint_pain': 0,\n",
              " 'history_of_alcohol_consumption': 0,\n",
              " 'increased_appetite': 0,\n",
              " 'indigestion': 0,\n",
              " 'inflammatory_nails': 0,\n",
              " 'internal_itching': 0,\n",
              " 'irregular_sugar_level': 0,\n",
              " 'irritability': 0,\n",
              " 'irritation_in_anus': 0,\n",
              " 'itching': 0,\n",
              " 'joint_pain': 0,\n",
              " 'knee_pain': 0,\n",
              " 'lack_of_concentration': 0,\n",
              " 'lethargy': 0,\n",
              " 'loss_of_appetite': 0,\n",
              " 'loss_of_balance': 0,\n",
              " 'loss_of_smell': 0,\n",
              " 'malaise': 0,\n",
              " 'mild_fever': 0,\n",
              " 'mood_swings': 0,\n",
              " 'movement_stiffness': 0,\n",
              " 'mucoid_sputum': 0,\n",
              " 'muscle_pain': 0,\n",
              " 'muscle_wasting': 0,\n",
              " 'muscle_weakness': 0,\n",
              " 'nausea': 0,\n",
              " 'neck_pain': 0,\n",
              " 'nodal_skin_eruptions': 0,\n",
              " 'obesity': 0,\n",
              " 'pain_behind_the_eyes': 0,\n",
              " 'pain_during_bowel_movements': 0,\n",
              " 'pain_in_anal_region': 0,\n",
              " 'painful_walking': 0,\n",
              " 'palpitations': 0,\n",
              " 'passage_of_gases': 0,\n",
              " 'patches_in_throat': 0,\n",
              " 'phlegm': 0,\n",
              " 'polyuria': 1,\n",
              " 'prominent_veins_on_calf': 0,\n",
              " 'puffy_face_and_eyes': 0,\n",
              " 'pus_filled_pimples': 0,\n",
              " 'receiving_blood_transfusion': 0,\n",
              " 'receiving_unsterile_injections': 0,\n",
              " 'red_sore_around_nose': 0,\n",
              " 'red_spots_over_body': 0,\n",
              " 'redness_of_eyes': 0,\n",
              " 'restlessness': 0,\n",
              " 'runny_nose': 0,\n",
              " 'rusty_sputum': 0,\n",
              " 'scurring': 0,\n",
              " 'shivering': 0,\n",
              " 'silver_like_dusting': 0,\n",
              " 'sinus_pressure': 0,\n",
              " 'skin_peeling': 0,\n",
              " 'skin_rash': 0,\n",
              " 'slurred_speech': 0,\n",
              " 'small_dents_in_nails': 0,\n",
              " 'spinning_movements': 0,\n",
              " 'spotting_ urination': 0,\n",
              " 'stiff_neck': 0,\n",
              " 'stomach_bleeding': 0,\n",
              " 'stomach_pain': 0,\n",
              " 'sunken_eyes': 0,\n",
              " 'sweating': 0,\n",
              " 'swelled_lymph_nodes': 0,\n",
              " 'swelling_joints': 0,\n",
              " 'swelling_of_stomach': 0,\n",
              " 'swollen_blood_vessels': 0,\n",
              " 'swollen_extremeties': 0,\n",
              " 'swollen_legs': 0,\n",
              " 'throat_irritation': 0,\n",
              " 'toxic_look_(typhos)': 0,\n",
              " 'ulcers_on_tongue': 0,\n",
              " 'unsteadiness': 0,\n",
              " 'visual_disturbances': 0,\n",
              " 'vomiting': 0,\n",
              " 'watering_from_eyes': 0,\n",
              " 'weakness_in_limbs': 0,\n",
              " 'weakness_of_one_body_side': 0,\n",
              " 'weight_gain': 0,\n",
              " 'weight_loss': 0,\n",
              " 'yellow_crust_ooze': 0,\n",
              " 'yellow_urine': 0,\n",
              " 'yellowing_of_eyes': 0,\n",
              " 'yellowish_skin': 0}"
            ]
          },
          "metadata": {},
          "execution_count": 42
        }
      ]
    },
    {
      "cell_type": "code",
      "source": [
        "#s = spark.createDataFrame(data = dict_input,schema = data.columns)"
      ],
      "metadata": {
        "id": "4MwaijuAvFyX"
      },
      "execution_count": null,
      "outputs": []
    },
    {
      "cell_type": "code",
      "source": [
        "\"\"\"assembler = VectorAssembler(inputCols = list(set(data.columns)), outputCol = 'features')\n",
        "s = assembler.transform(input_symp)\n",
        "disease = log_reg_model.transform(s)\"\"\""
      ],
      "metadata": {
        "colab": {
          "base_uri": "https://localhost:8080/",
          "height": 35
        },
        "id": "JSIc3EhtrqWZ",
        "outputId": "084776a9-0727-4008-e2e1-2006719d5656"
      },
      "execution_count": null,
      "outputs": [
        {
          "output_type": "execute_result",
          "data": {
            "text/plain": [
              "\"assembler = VectorAssembler(inputCols = list(set(data.columns)), outputCol = 'features')\\ns = assembler.transform(input_symp)\\ndisease = log_reg_model.transform(s)\""
            ],
            "application/vnd.google.colaboratory.intrinsic+json": {
              "type": "string"
            }
          },
          "metadata": {},
          "execution_count": 44
        }
      ]
    },
    {
      "cell_type": "markdown",
      "source": [
        ""
      ],
      "metadata": {
        "id": "_V-g4Qlp01Jp"
      }
    },
    {
      "cell_type": "markdown",
      "source": [
        "## **With the manual input of the system we can predict the most possible prognosis**"
      ],
      "metadata": {
        "id": "9b5YAOZE01V2"
      }
    },
    {
      "cell_type": "markdown",
      "source": [
        "# DOCTORS DATASET"
      ],
      "metadata": {
        "id": "i6r_AZsq1D65"
      }
    },
    {
      "cell_type": "code",
      "source": [
        "data_doc = spark.read.csv(header=True, inferSchema= True, path=\"/content/gdrive/MyDrive/big data/prognosis&doctor1.csv\")\n",
        "data_doc.show(5)"
      ],
      "metadata": {
        "colab": {
          "base_uri": "https://localhost:8080/"
        },
        "id": "CN5JMO322Lbp",
        "outputId": "6f246550-1186-46c5-b6bd-4edfc9c379c6"
      },
      "execution_count": null,
      "outputs": [
        {
          "output_type": "stream",
          "name": "stdout",
          "text": [
            "+----------------+-------+----+-------------------+-------------+-------------------+----+---------+---------------+----------------+-------------+--------+--------------------+----------------------------+--------+-------+-----------+------+-------+-----------+-----------+-----------+-----------+-----------+-------------------+------------+-----------+---------+----------------------------+------------+--------------+--------------+---------------+------------+---------------+---------+---------------------------------------+----+-----------------------+---------+--------+-----------------+--------------------+\n",
            "|Fungal infection|Allergy|GERD|Chronic cholestasis|Drug Reaction|Peptic ulcer diseae|AIDS|Diabetes |Gastroenteritis|Bronchial Asthma|Hypertension |Migraine|Cervical spondylosis|Paralysis (brain hemorrhage)|Jaundice|Malaria|Chicken pox|Dengue|Typhoid|hepatitis A|Hepatitis B|Hepatitis C|Hepatitis D|Hepatitis E|Alcoholic hepatitis|Tuberculosis|Common Cold|Pneumonia|Dimorphic hemmorhoids(piles)|Heart attack|Varicose veins|Hypothyroidism|Hyperthyroidism|Hypoglycemia|Osteoarthristis|Arthritis|(vertigo) Paroymsal  Positional Vertigo|Acne|Urinary tract infection|Psoriasis|Impetigo|             Dept|                  DC|\n",
            "+----------------+-------+----+-------------------+-------------+-------------------+----+---------+---------------+----------------+-------------+--------+--------------------+----------------------------+--------+-------+-----------+------+-------+-----------+-----------+-----------+-----------+-----------+-------------------+------------+-----------+---------+----------------------------+------------+--------------+--------------+---------------+------------+---------------+---------+---------------------------------------+----+-----------------------+---------+--------+-----------------+--------------------+\n",
            "|               1|      1|   1|                  1|            1|                  1|   1|        1|              1|               1|            1|       1|                   1|                           1|       1|      1|          1|     1|      1|          1|          1|          1|          1|          1|                  1|           1|          1|        1|                           1|           1|             1|             1|              1|           1|              1|        1|                                      1|   1|                      1|        1|       1|General Physician|Dr. Amarpreet Sin...|\n",
            "|               0|      0|   0|                  0|            0|                  0|   0|        1|              0|               0|            0|       0|                   0|                           0|       0|      0|          0|     0|      0|          0|          0|          0|          0|          0|                  0|           0|          0|        0|                           0|           0|             0|             0|              0|           0|              0|        0|                                      0|   0|                      0|        0|       0|    Diabetologist|Dr. Anirban Biswa...|\n",
            "|               1|      1|   1|                  1|            0|                  0|   0|        0|              0|               1|            0|       0|                   0|                           0|       0|      0|          0|     0|      0|          0|          0|          0|          0|          0|                  0|           0|          0|        0|                           0|           0|             0|             0|              0|           0|              0|        0|                                      0|   0|                      0|        1|       0|       Homoeopath|Dr. Mansi Arya : ...|\n",
            "|               0|      0|   0|                  0|            0|                  0|   1|        0|              0|               0|            0|       0|                   0|                           0|       0|      0|          0|     0|      0|          0|          1|          0|          0|          0|                  0|           0|          0|        0|                           0|           0|             0|             0|              0|           0|              0|        0|                                      0|   0|                      0|        0|       0|       Sexologist|Dr. Sunil Kumar D...|\n",
            "|               1|      1|   1|                  1|            1|                  1|   0|        1|              1|               1|            1|       0|                   0|                           0|       0|      0|          0|     0|      0|          0|          0|          0|          0|          0|                  0|           0|          0|        0|                           0|           0|             0|             0|              0|           0|              0|        0|                                      0|   0|                      0|        0|       0|         Ayurveda|Dr. Inderjeet Sin...|\n",
            "+----------------+-------+----+-------------------+-------------+-------------------+----+---------+---------------+----------------+-------------+--------+--------------------+----------------------------+--------+-------+-----------+------+-------+-----------+-----------+-----------+-----------+-----------+-------------------+------------+-----------+---------+----------------------------+------------+--------------+--------------+---------------+------------+---------------+---------+---------------------------------------+----+-----------------------+---------+--------+-----------------+--------------------+\n",
            "only showing top 5 rows\n",
            "\n"
          ]
        }
      ]
    },
    {
      "cell_type": "code",
      "source": [
        "disease = str(input())\n",
        "x = data_doc[[disease,\"Dept\",\"DC\"]]\n",
        "y = x[(data_doc[disease] ==1)]\n",
        "print(\"So the dept and doctor dealing with your prognosis are :\")\n",
        "y"
      ],
      "metadata": {
        "colab": {
          "base_uri": "https://localhost:8080/"
        },
        "id": "yboxQu1a2UQO",
        "outputId": "9ce50b2a-08ed-41e2-9c32-bc6e5600e647"
      },
      "execution_count": null,
      "outputs": [
        {
          "output_type": "stream",
          "name": "stdout",
          "text": [
            "GERD\n",
            "So the dept and doctor dealing with your prognosis are :\n"
          ]
        },
        {
          "output_type": "execute_result",
          "data": {
            "text/plain": [
              "DataFrame[GERD: int, Dept: string, DC: string]"
            ]
          },
          "metadata": {},
          "execution_count": 13
        }
      ]
    },
    {
      "cell_type": "code",
      "source": [
        "y.show()"
      ],
      "metadata": {
        "colab": {
          "base_uri": "https://localhost:8080/"
        },
        "id": "HOxawy7N2g4r",
        "outputId": "dee5ffbb-d8eb-4d2d-b9be-666a2e99ce85"
      },
      "execution_count": null,
      "outputs": [
        {
          "output_type": "stream",
          "name": "stdout",
          "text": [
            "+----+--------------------+--------------------+\n",
            "|GERD|                Dept|                  DC|\n",
            "+----+--------------------+--------------------+\n",
            "|   1|   General Physician|Dr. Amarpreet Sin...|\n",
            "|   1|          Homoeopath|Dr. Mansi Arya : ...|\n",
            "|   1|            Ayurveda|Dr. Inderjeet Sin...|\n",
            "|   1|           Medicine |Dr. Sudhir Bhola\\...|\n",
            "|   1|Dietitian&Nutriti...|Dr. Sugeeta Mutre...|\n",
            "+----+--------------------+--------------------+\n",
            "\n"
          ]
        }
      ]
    },
    {
      "cell_type": "markdown",
      "source": [
        "## **Application Input**"
      ],
      "metadata": {
        "id": "EceORfeP1KNa"
      }
    },
    {
      "cell_type": "code",
      "source": [
        "doc =  str(input(\"Type of Doctor:\"))\n",
        "adhaar = str(input(\"Enter your Aadhar number:\"))\n",
        "name = str(input(\"Enter your name :\"))\n"
      ],
      "metadata": {
        "id": "vPQ8tAI12ji5",
        "colab": {
          "base_uri": "https://localhost:8080/"
        },
        "outputId": "26a519ec-016d-48e1-db20-7effe4a688f6"
      },
      "execution_count": null,
      "outputs": [
        {
          "name": "stdout",
          "output_type": "stream",
          "text": [
            "Type of Doctor:General Physician\n",
            "Enter your Aadhar number:676868686\n",
            "Enter your name :Gitansh\n"
          ]
        }
      ]
    },
    {
      "cell_type": "code",
      "source": [
        "from pyspark.sql.types import Row, StructField, StructType, StringType, IntegerType\n",
        "rdd1 = sc.parallelize([Row(name=name, Adhaar_number =adhaar , Doctor_dept= doc)])\n",
        "rdd1.collect()\n"
      ],
      "metadata": {
        "id": "vdqI-wma3TUB",
        "colab": {
          "base_uri": "https://localhost:8080/"
        },
        "outputId": "8d4ee7ca-8e94-43f9-8342-18e200e95a31"
      },
      "execution_count": null,
      "outputs": [
        {
          "output_type": "execute_result",
          "data": {
            "text/plain": [
              "[Row(name='Gitansh', Adhaar_number='676868686', Doctor_dept='General Physician')]"
            ]
          },
          "metadata": {},
          "execution_count": 61
        }
      ]
    },
    {
      "cell_type": "code",
      "source": [
        "print(\"Booked Successfully !!!!!!!!!\")"
      ],
      "metadata": {
        "colab": {
          "base_uri": "https://localhost:8080/"
        },
        "id": "8ZNjoyKW1iPG",
        "outputId": "459d4997-c235-4c04-a8c3-058f63762fb9"
      },
      "execution_count": null,
      "outputs": [
        {
          "output_type": "stream",
          "name": "stdout",
          "text": [
            "Booked Successfully !!!!!!!!!\n"
          ]
        }
      ]
    },
    {
      "cell_type": "code",
      "source": [
        ""
      ],
      "metadata": {
        "id": "Mn8HUs8s2thN"
      },
      "execution_count": null,
      "outputs": []
    },
    {
      "cell_type": "markdown",
      "source": [
        "# Time Comparission "
      ],
      "metadata": {
        "id": "ofwvrFyvdUCA"
      }
    },
    {
      "cell_type": "code",
      "source": [
        "spark = [5.0,5.07,5.8,6.56,7.79]\n",
        "collab = [5.69,6.02,6.89,7.85,8.67]\n",
        "x = [\"Data1\",\"Data2\",\"Data3\",\"Data4\",\"Data5\"]"
      ],
      "metadata": {
        "id": "zEPya-aQa5TN"
      },
      "execution_count": null,
      "outputs": []
    },
    {
      "cell_type": "code",
      "source": [
        ""
      ],
      "metadata": {
        "id": "Spc8bb-7a5cd"
      },
      "execution_count": null,
      "outputs": []
    },
    {
      "cell_type": "code",
      "source": [
        "import matplotlib.pyplot as plt\n",
        "\n",
        "plt.plot(x, spark, label='Spark')\n",
        "plt.plot(x, collab, label='Collab')\n",
        "plt.legend(loc='upper right')\n",
        "plt.title('Time taken in spark and collab ')\n",
        "plt.show()"
      ],
      "metadata": {
        "colab": {
          "base_uri": "https://localhost:8080/",
          "height": 281
        },
        "id": "GJIcPzI2a5fr",
        "outputId": "4210399c-c0a2-4558-d42c-e102b1661ffb"
      },
      "execution_count": null,
      "outputs": [
        {
          "output_type": "display_data",
          "data": {
            "text/plain": [
              "<Figure size 432x288 with 1 Axes>"
            ],
            "image/png": "[encoded data removed]"
          },
          "metadata": {
            "needs_background": "light"
          }
        }
      ]
    },
    {
      "cell_type": "code",
      "source": [
        ""
      ],
      "metadata": {
        "id": "sB6tGhoAa5jN"
      },
      "execution_count": null,
      "outputs": []
    },
    {
      "cell_type": "markdown",
      "source": [
        "# Why are we Asking for Adhaar Number>?"
      ],
      "metadata": {
        "id": "DukVgNRr2w83"
      }
    },
    {
      "cell_type": "code",
      "source": [
        ""
      ],
      "metadata": {
        "id": "4x_CZTqU25io"
      },
      "execution_count": null,
      "outputs": []
    }
  ]
}